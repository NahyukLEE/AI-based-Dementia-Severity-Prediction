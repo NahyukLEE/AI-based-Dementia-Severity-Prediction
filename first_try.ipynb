{
 "cells": [
  {
   "cell_type": "markdown",
   "metadata": {},
   "source": [
    "# Dementia Data Analysis "
   ]
  },
  {
   "cell_type": "markdown",
   "metadata": {},
   "source": [
    "중앙대학교병원 신경과 윤영철 교수님 치매 과제 1차 Sample 분석용 Jupyter입니다.  \n",
    "작성자/작성일 : 이나혁, 2020년 8월 20일"
   ]
  },
  {
   "cell_type": "markdown",
   "metadata": {},
   "source": [
    "## <1> Data Preprocessing"
   ]
  },
  {
   "cell_type": "code",
   "execution_count": 193,
   "metadata": {},
   "outputs": [],
   "source": [
    "import pandas as pd\n",
    "import warnings\n",
    "warnings.filterwarnings('ignore')"
   ]
  },
  {
   "cell_type": "code",
   "execution_count": 194,
   "metadata": {},
   "outputs": [],
   "source": [
    "# utf-8 코덱을 decode할 수 없으므로 cp949 encoding 설정 수행\n",
    "data_table = pd.read_csv('SNSB_figure.csv', encoding='CP949')"
   ]
  },
  {
   "cell_type": "code",
   "execution_count": 195,
   "metadata": {},
   "outputs": [
    {
     "name": "stdout",
     "output_type": "stream",
     "text": [
      "<class 'pandas.core.frame.DataFrame'>\n",
      "RangeIndex: 2231 entries, 0 to 2230\n",
      "Data columns (total 13 columns):\n",
      " #   Column                           Non-Null Count  Dtype  \n",
      "---  ------                           --------------  -----  \n",
      " 0   Hospital_No                      2229 non-null   object \n",
      " 1   Age                              2231 non-null   int64  \n",
      " 2   sex                              2231 non-null   int64  \n",
      " 3   education                        2230 non-null   object \n",
      " 4   edu_years                        2231 non-null   float64\n",
      " 5   Rey_CFT_copy_score               2211 non-null   float64\n",
      " 6   Rey_CFT_copy_score_p             2211 non-null   float64\n",
      " 7   Alternating_square_and_triangle  2054 non-null   object \n",
      " 8   Luria_loop                       2051 non-null   object \n",
      " 9   K_MMSE_drawing                   2219 non-null   float64\n",
      " 10  K_MMSE_drawing_p                 2219 non-null   object \n",
      " 11  CDR                              2213 non-null   float64\n",
      " 12  Sum_of_boxes                     2206 non-null   float64\n",
      "dtypes: float64(6), int64(2), object(5)\n",
      "memory usage: 226.7+ KB\n"
     ]
    }
   ],
   "source": [
    "# Data 정보 확인\n",
    "data_table.info()"
   ]
  },
  {
   "cell_type": "markdown",
   "metadata": {},
   "source": [
    "- <b>Total Data Row</b> : 2230개(Feature Row 제외)\n",
    "- <b>결측치가 존재하는 Column</b> : Hospital No, education, Rey_CFT_copy_score, Rey_CFT_copy_score_p, Alternating_square_and_triangle, Luria_loop, K_MMSE_drawing, K_MMSE_drawing_p, CDR, Sum_of_boxes"
   ]
  },
  {
   "cell_type": "code",
   "execution_count": 196,
   "metadata": {},
   "outputs": [
    {
     "data": {
      "text/html": [
       "<div>\n",
       "<style scoped>\n",
       "    .dataframe tbody tr th:only-of-type {\n",
       "        vertical-align: middle;\n",
       "    }\n",
       "\n",
       "    .dataframe tbody tr th {\n",
       "        vertical-align: top;\n",
       "    }\n",
       "\n",
       "    .dataframe thead th {\n",
       "        text-align: right;\n",
       "    }\n",
       "</style>\n",
       "<table border=\"1\" class=\"dataframe\">\n",
       "  <thead>\n",
       "    <tr style=\"text-align: right;\">\n",
       "      <th></th>\n",
       "      <th>Hospital_No</th>\n",
       "      <th>Age</th>\n",
       "      <th>sex</th>\n",
       "      <th>education</th>\n",
       "      <th>edu_years</th>\n",
       "      <th>Rey_CFT_copy_score</th>\n",
       "      <th>Rey_CFT_copy_score_p</th>\n",
       "      <th>Alternating_square_and_triangle</th>\n",
       "      <th>Luria_loop</th>\n",
       "      <th>K_MMSE_drawing</th>\n",
       "      <th>K_MMSE_drawing_p</th>\n",
       "      <th>CDR</th>\n",
       "      <th>Sum_of_boxes</th>\n",
       "    </tr>\n",
       "  </thead>\n",
       "  <tbody>\n",
       "    <tr>\n",
       "      <th>0</th>\n",
       "      <td>938443</td>\n",
       "      <td>75</td>\n",
       "      <td>0</td>\n",
       "      <td>대졸</td>\n",
       "      <td>14.0</td>\n",
       "      <td>17.0</td>\n",
       "      <td>0.00</td>\n",
       "      <td>Normal</td>\n",
       "      <td>Normal</td>\n",
       "      <td>1.0</td>\n",
       "      <td>2.44≤</td>\n",
       "      <td>1.0</td>\n",
       "      <td>8.0</td>\n",
       "    </tr>\n",
       "    <tr>\n",
       "      <th>1</th>\n",
       "      <td>1407055</td>\n",
       "      <td>85</td>\n",
       "      <td>1</td>\n",
       "      <td>고중퇴</td>\n",
       "      <td>11.0</td>\n",
       "      <td>1.5</td>\n",
       "      <td>0.00</td>\n",
       "      <td>Normal</td>\n",
       "      <td>Normal</td>\n",
       "      <td>1.0</td>\n",
       "      <td>7.51≤</td>\n",
       "      <td>1.0</td>\n",
       "      <td>6.0</td>\n",
       "    </tr>\n",
       "    <tr>\n",
       "      <th>2</th>\n",
       "      <td>970997</td>\n",
       "      <td>80</td>\n",
       "      <td>0</td>\n",
       "      <td>고졸</td>\n",
       "      <td>12.0</td>\n",
       "      <td>36.0</td>\n",
       "      <td>88.34</td>\n",
       "      <td>Normal</td>\n",
       "      <td>Normal</td>\n",
       "      <td>1.0</td>\n",
       "      <td>5.53≤</td>\n",
       "      <td>0.5</td>\n",
       "      <td>1.5</td>\n",
       "    </tr>\n",
       "    <tr>\n",
       "      <th>3</th>\n",
       "      <td>991395</td>\n",
       "      <td>75</td>\n",
       "      <td>0</td>\n",
       "      <td>초4~6년</td>\n",
       "      <td>6.0</td>\n",
       "      <td>26.0</td>\n",
       "      <td>31.10</td>\n",
       "      <td>Normal</td>\n",
       "      <td>Normal</td>\n",
       "      <td>0.0</td>\n",
       "      <td>&lt;17.46</td>\n",
       "      <td>0.5</td>\n",
       "      <td>2.5</td>\n",
       "    </tr>\n",
       "    <tr>\n",
       "      <th>4</th>\n",
       "      <td>891889</td>\n",
       "      <td>73</td>\n",
       "      <td>0</td>\n",
       "      <td>고졸</td>\n",
       "      <td>12.0</td>\n",
       "      <td>18.0</td>\n",
       "      <td>0.00</td>\n",
       "      <td>Normal</td>\n",
       "      <td>Normal</td>\n",
       "      <td>1.0</td>\n",
       "      <td>3.31≤</td>\n",
       "      <td>0.5</td>\n",
       "      <td>2.5</td>\n",
       "    </tr>\n",
       "  </tbody>\n",
       "</table>\n",
       "</div>"
      ],
      "text/plain": [
       "  Hospital_No  Age  sex education  edu_years  Rey_CFT_copy_score  \\\n",
       "0      938443   75    0        대졸       14.0                17.0   \n",
       "1     1407055   85    1       고중퇴       11.0                 1.5   \n",
       "2      970997   80    0        고졸       12.0                36.0   \n",
       "3      991395   75    0     초4~6년        6.0                26.0   \n",
       "4      891889   73    0        고졸       12.0                18.0   \n",
       "\n",
       "   Rey_CFT_copy_score_p Alternating_square_and_triangle Luria_loop  \\\n",
       "0                  0.00                          Normal     Normal   \n",
       "1                  0.00                          Normal     Normal   \n",
       "2                 88.34                          Normal     Normal   \n",
       "3                 31.10                          Normal     Normal   \n",
       "4                  0.00                          Normal     Normal   \n",
       "\n",
       "   K_MMSE_drawing K_MMSE_drawing_p  CDR  Sum_of_boxes  \n",
       "0             1.0            2.44≤  1.0           8.0  \n",
       "1             1.0            7.51≤  1.0           6.0  \n",
       "2             1.0            5.53≤  0.5           1.5  \n",
       "3             0.0           <17.46  0.5           2.5  \n",
       "4             1.0            3.31≤  0.5           2.5  "
      ]
     },
     "execution_count": 196,
     "metadata": {},
     "output_type": "execute_result"
    }
   ],
   "source": [
    "# Data Sample 5개 조회\n",
    "data_table.head(5)"
   ]
  },
  {
   "cell_type": "markdown",
   "metadata": {},
   "source": [
    "## Data Encoding"
   ]
  },
  {
   "cell_type": "markdown",
   "metadata": {},
   "source": [
    "<b>Encoding 할 Feature</b> : Alternating_square_and_triangle, Luria_loop"
   ]
  },
  {
   "cell_type": "markdown",
   "metadata": {},
   "source": [
    "<b>Object Dtype</b> : education, Alternating_square_and_triangle, Luria_loop, K_MMSE_drawing_p\t"
   ]
  },
  {
   "cell_type": "code",
   "execution_count": 197,
   "metadata": {},
   "outputs": [
    {
     "data": {
      "text/html": [
       "<div>\n",
       "<style scoped>\n",
       "    .dataframe tbody tr th:only-of-type {\n",
       "        vertical-align: middle;\n",
       "    }\n",
       "\n",
       "    .dataframe tbody tr th {\n",
       "        vertical-align: top;\n",
       "    }\n",
       "\n",
       "    .dataframe thead th {\n",
       "        text-align: right;\n",
       "    }\n",
       "</style>\n",
       "<table border=\"1\" class=\"dataframe\">\n",
       "  <thead>\n",
       "    <tr style=\"text-align: right;\">\n",
       "      <th></th>\n",
       "      <th>Age</th>\n",
       "      <th>sex</th>\n",
       "      <th>edu_years</th>\n",
       "      <th>Rey_CFT_copy_score</th>\n",
       "      <th>Rey_CFT_copy_score_p</th>\n",
       "      <th>K_MMSE_drawing</th>\n",
       "      <th>CDR</th>\n",
       "      <th>Sum_of_boxes</th>\n",
       "    </tr>\n",
       "  </thead>\n",
       "  <tbody>\n",
       "    <tr>\n",
       "      <th>count</th>\n",
       "      <td>2231.000000</td>\n",
       "      <td>2231.000000</td>\n",
       "      <td>2231.000000</td>\n",
       "      <td>2211.000000</td>\n",
       "      <td>2211.000000</td>\n",
       "      <td>2219.000000</td>\n",
       "      <td>2213.000000</td>\n",
       "      <td>2206.000000</td>\n",
       "    </tr>\n",
       "    <tr>\n",
       "      <th>mean</th>\n",
       "      <td>71.789332</td>\n",
       "      <td>0.370686</td>\n",
       "      <td>8.603541</td>\n",
       "      <td>25.252261</td>\n",
       "      <td>34.992533</td>\n",
       "      <td>0.657503</td>\n",
       "      <td>0.653163</td>\n",
       "      <td>3.321850</td>\n",
       "    </tr>\n",
       "    <tr>\n",
       "      <th>std</th>\n",
       "      <td>9.917349</td>\n",
       "      <td>0.483097</td>\n",
       "      <td>5.163496</td>\n",
       "      <td>10.098891</td>\n",
       "      <td>31.799450</td>\n",
       "      <td>0.474652</td>\n",
       "      <td>0.346833</td>\n",
       "      <td>2.310283</td>\n",
       "    </tr>\n",
       "    <tr>\n",
       "      <th>min</th>\n",
       "      <td>45.000000</td>\n",
       "      <td>0.000000</td>\n",
       "      <td>0.000000</td>\n",
       "      <td>0.000000</td>\n",
       "      <td>0.000000</td>\n",
       "      <td>0.000000</td>\n",
       "      <td>0.000000</td>\n",
       "      <td>0.000000</td>\n",
       "    </tr>\n",
       "    <tr>\n",
       "      <th>25%</th>\n",
       "      <td>67.000000</td>\n",
       "      <td>0.000000</td>\n",
       "      <td>6.000000</td>\n",
       "      <td>18.500000</td>\n",
       "      <td>1.600000</td>\n",
       "      <td>0.000000</td>\n",
       "      <td>0.500000</td>\n",
       "      <td>2.000000</td>\n",
       "    </tr>\n",
       "    <tr>\n",
       "      <th>50%</th>\n",
       "      <td>74.000000</td>\n",
       "      <td>0.000000</td>\n",
       "      <td>8.000000</td>\n",
       "      <td>29.000000</td>\n",
       "      <td>28.760000</td>\n",
       "      <td>1.000000</td>\n",
       "      <td>0.500000</td>\n",
       "      <td>2.500000</td>\n",
       "    </tr>\n",
       "    <tr>\n",
       "      <th>75%</th>\n",
       "      <td>79.000000</td>\n",
       "      <td>1.000000</td>\n",
       "      <td>12.000000</td>\n",
       "      <td>33.375000</td>\n",
       "      <td>65.400000</td>\n",
       "      <td>1.000000</td>\n",
       "      <td>0.500000</td>\n",
       "      <td>4.000000</td>\n",
       "    </tr>\n",
       "    <tr>\n",
       "      <th>max</th>\n",
       "      <td>90.000000</td>\n",
       "      <td>1.000000</td>\n",
       "      <td>18.000000</td>\n",
       "      <td>36.000000</td>\n",
       "      <td>91.360000</td>\n",
       "      <td>1.000000</td>\n",
       "      <td>3.500000</td>\n",
       "      <td>16.000000</td>\n",
       "    </tr>\n",
       "  </tbody>\n",
       "</table>\n",
       "</div>"
      ],
      "text/plain": [
       "               Age          sex    edu_years  Rey_CFT_copy_score  \\\n",
       "count  2231.000000  2231.000000  2231.000000         2211.000000   \n",
       "mean     71.789332     0.370686     8.603541           25.252261   \n",
       "std       9.917349     0.483097     5.163496           10.098891   \n",
       "min      45.000000     0.000000     0.000000            0.000000   \n",
       "25%      67.000000     0.000000     6.000000           18.500000   \n",
       "50%      74.000000     0.000000     8.000000           29.000000   \n",
       "75%      79.000000     1.000000    12.000000           33.375000   \n",
       "max      90.000000     1.000000    18.000000           36.000000   \n",
       "\n",
       "       Rey_CFT_copy_score_p  K_MMSE_drawing          CDR  Sum_of_boxes  \n",
       "count           2211.000000     2219.000000  2213.000000   2206.000000  \n",
       "mean              34.992533        0.657503     0.653163      3.321850  \n",
       "std               31.799450        0.474652     0.346833      2.310283  \n",
       "min                0.000000        0.000000     0.000000      0.000000  \n",
       "25%                1.600000        0.000000     0.500000      2.000000  \n",
       "50%               28.760000        1.000000     0.500000      2.500000  \n",
       "75%               65.400000        1.000000     0.500000      4.000000  \n",
       "max               91.360000        1.000000     3.500000     16.000000  "
      ]
     },
     "execution_count": 197,
     "metadata": {},
     "output_type": "execute_result"
    }
   ],
   "source": [
    "# 대략적인 Data 분포 확인\n",
    "data_table.describe()"
   ]
  },
  {
   "cell_type": "code",
   "execution_count": 198,
   "metadata": {},
   "outputs": [
    {
     "data": {
      "text/html": [
       "<div>\n",
       "<style scoped>\n",
       "    .dataframe tbody tr th:only-of-type {\n",
       "        vertical-align: middle;\n",
       "    }\n",
       "\n",
       "    .dataframe tbody tr th {\n",
       "        vertical-align: top;\n",
       "    }\n",
       "\n",
       "    .dataframe thead th {\n",
       "        text-align: right;\n",
       "    }\n",
       "</style>\n",
       "<table border=\"1\" class=\"dataframe\">\n",
       "  <thead>\n",
       "    <tr style=\"text-align: right;\">\n",
       "      <th></th>\n",
       "      <th>Age</th>\n",
       "      <th>sex</th>\n",
       "      <th>edu_years</th>\n",
       "      <th>Rey_CFT_copy_score</th>\n",
       "      <th>Rey_CFT_copy_score_p</th>\n",
       "      <th>Alternating_square_and_triangle</th>\n",
       "      <th>Luria_loop</th>\n",
       "      <th>K_MMSE_drawing</th>\n",
       "      <th>CDR</th>\n",
       "    </tr>\n",
       "  </thead>\n",
       "  <tbody>\n",
       "    <tr>\n",
       "      <th>0</th>\n",
       "      <td>75</td>\n",
       "      <td>0</td>\n",
       "      <td>14.0</td>\n",
       "      <td>17.0</td>\n",
       "      <td>0.00</td>\n",
       "      <td>Normal</td>\n",
       "      <td>Normal</td>\n",
       "      <td>1.0</td>\n",
       "      <td>1.0</td>\n",
       "    </tr>\n",
       "    <tr>\n",
       "      <th>1</th>\n",
       "      <td>85</td>\n",
       "      <td>1</td>\n",
       "      <td>11.0</td>\n",
       "      <td>1.5</td>\n",
       "      <td>0.00</td>\n",
       "      <td>Normal</td>\n",
       "      <td>Normal</td>\n",
       "      <td>1.0</td>\n",
       "      <td>1.0</td>\n",
       "    </tr>\n",
       "    <tr>\n",
       "      <th>2</th>\n",
       "      <td>80</td>\n",
       "      <td>0</td>\n",
       "      <td>12.0</td>\n",
       "      <td>36.0</td>\n",
       "      <td>88.34</td>\n",
       "      <td>Normal</td>\n",
       "      <td>Normal</td>\n",
       "      <td>1.0</td>\n",
       "      <td>0.5</td>\n",
       "    </tr>\n",
       "  </tbody>\n",
       "</table>\n",
       "</div>"
      ],
      "text/plain": [
       "   Age  sex  edu_years  Rey_CFT_copy_score  Rey_CFT_copy_score_p  \\\n",
       "0   75    0       14.0                17.0                  0.00   \n",
       "1   85    1       11.0                 1.5                  0.00   \n",
       "2   80    0       12.0                36.0                 88.34   \n",
       "\n",
       "  Alternating_square_and_triangle Luria_loop  K_MMSE_drawing  CDR  \n",
       "0                          Normal     Normal             1.0  1.0  \n",
       "1                          Normal     Normal             1.0  1.0  \n",
       "2                          Normal     Normal             1.0  0.5  "
      ]
     },
     "execution_count": 198,
     "metadata": {},
     "output_type": "execute_result"
    }
   ],
   "source": [
    "# 분석에 쓰이지 않는 Feature 제거\n",
    "data_table.drop(['Hospital_No'], axis=1, inplace=True) # 분석에 의미 없음\n",
    "data_table.drop(['education'], axis=1, inplace=True) # edu_y\n",
    "data_table.drop(['K_MMSE_drawing_p'], axis=1, inplace=True)\n",
    "data_table.drop(['Sum_of_boxes'], axis=1, inplace=True)\n",
    "\n",
    "data_table.head(3)"
   ]
  },
  {
   "cell_type": "code",
   "execution_count": 199,
   "metadata": {},
   "outputs": [],
   "source": [
    "import matplotlib as mpl\n",
    "import matplotlib.pyplot as plt\n",
    "import seaborn as sns"
   ]
  },
  {
   "cell_type": "code",
   "execution_count": 201,
   "metadata": {},
   "outputs": [
    {
     "data": {
      "text/plain": [
       "<matplotlib.axes._subplots.AxesSubplot at 0x1d428d50790>"
      ]
     },
     "execution_count": 201,
     "metadata": {},
     "output_type": "execute_result"
    },
    {
     "data": {
      "image/png": "[encoded data removed]",
      "text/plain": [
       "<Figure size 432x288 with 2 Axes>"
      ]
     },
     "metadata": {
      "needs_background": "light"
     },
     "output_type": "display_data"
    }
   ],
   "source": [
    "# 피처 상관관계 히트맵\n",
    "corr = data_table.corr()\n",
    "sns.heatmap(corr, cmap='RdBu')"
   ]
  },
  {
   "cell_type": "code",
   "execution_count": 192,
   "metadata": {},
   "outputs": [
    {
     "data": {
      "text/plain": [
       "<matplotlib.axes._subplots.AxesSubplot at 0x1d42ae651f0>"
      ]
     },
     "execution_count": 192,
     "metadata": {},
     "output_type": "execute_result"
    },
    {
     "data": {
      "image/png": "[encoded data removed]",
      "text/plain": [
       "<Figure size 1296x576 with 6 Axes>"
      ]
     },
     "metadata": {
      "needs_background": "light"
     },
     "output_type": "display_data"
    }
   ],
   "source": [
    "figure, ((ax1,ax2,ax3), (ax4,ax5,ax6)) = plt.subplots(nrows=2, ncols=3)\n",
    "figure.set_size_inches(18,8)\n",
    "\n",
    "sns.distplot(data_table['Age'], ax=ax1)\n",
    "sns.countplot(x=\"sex\", data=data_table, ax=ax2)\n",
    "sns.distplot(data_table['edu_years'], ax=ax3)\n",
    "sns.distplot(data_table['Rey_CFT_copy_score'], ax=ax4)\n",
    "sns.distplot(data_table['Rey_CFT_copy_score_p'], ax=ax5)\n",
    "sns.countplot(x=\"K_MMSE_drawing\", data=data_table, ax=ax6)"
   ]
  },
  {
   "cell_type": "code",
   "execution_count": null,
   "metadata": {},
   "outputs": [],
   "source": []
  },
  {
   "cell_type": "code",
   "execution_count": null,
   "metadata": {},
   "outputs": [],
   "source": [
    "\n"
   ]
  }
 ],
 "metadata": {
  "kernelspec": {
   "display_name": "Python 3",
   "language": "python",
   "name": "python3"
  },
  "language_info": {
   "codemirror_mode": {
    "name": "ipython",
    "version": 3
   },
   "file_extension": ".py",
   "mimetype": "text/x-python",
   "name": "python",
   "nbconvert_exporter": "python",
   "pygments_lexer": "ipython3",
   "version": "3.6.5"
  }
 },
 "nbformat": 4,
 "nbformat_minor": 4
} 
