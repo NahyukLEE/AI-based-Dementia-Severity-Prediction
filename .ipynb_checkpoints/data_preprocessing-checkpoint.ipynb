{
 "cells": [
  {
   "cell_type": "markdown",
   "metadata": {},
   "source": [
    "# Dementia Data Analysis "
   ]
  },
  {
   "cell_type": "markdown",
   "metadata": {},
   "source": [
    "중앙대학교병원 신경과 윤영철 교수님 치매 과제 2차 Sample 분석용 Jupyter입니다.  \n",
    "작성자/작성일 : 이나혁, 2020년 9월 7일"
   ]
  },
  {
   "cell_type": "markdown",
   "metadata": {},
   "source": [
    "## <1> Data Preprocessing"
   ]
  },
  {
   "cell_type": "code",
   "execution_count": 54,
   "metadata": {},
   "outputs": [],
   "source": [
    "import pandas as pd\n",
    "import warnings\n",
    "import matplotlib as mpl\n",
    "import matplotlib.pyplot as plt\n",
    "import seaborn as sns\n",
    "import numpy as np\n",
    "warnings.filterwarnings('ignore')"
   ]
  },
  {
   "cell_type": "code",
   "execution_count": 55,
   "metadata": {},
   "outputs": [],
   "source": [
    "data_table = pd.read_csv('SNSB_1_figure.csv')"
   ]
  },
  {
   "cell_type": "code",
   "execution_count": 56,
   "metadata": {},
   "outputs": [
    {
     "name": "stdout",
     "output_type": "stream",
     "text": [
      "<class 'pandas.core.frame.DataFrame'>\n",
      "RangeIndex: 2231 entries, 0 to 2230\n",
      "Data columns (total 25 columns):\n",
      " #   Column                           Non-Null Count  Dtype  \n",
      "---  ------                           --------------  -----  \n",
      " 0   Hospital No                      2229 non-null   object \n",
      " 1   Age                              2231 non-null   int64  \n",
      " 2   sex                              2231 non-null   int64  \n",
      " 3   education                        2230 non-null   object \n",
      " 4   edu_years                        2231 non-null   float64\n",
      " 5   Rey_CFT_copy_score               2211 non-null   float64\n",
      " 6   Rey_CFT_copy_score_p             2211 non-null   float64\n",
      " 7   Alternating_square_and_triangle  2054 non-null   object \n",
      " 8   Luria_loop                       2051 non-null   object \n",
      " 9   K_MMSE_drawing                   2219 non-null   float64\n",
      " 10  K_MMSE_drawing_p                 2219 non-null   object \n",
      " 11  CDT_Contour                      737 non-null    float64\n",
      " 12  CDT_Numbers                      737 non-null    float64\n",
      " 13  CDT_time_setting                 737 non-null    float64\n",
      " 14  CDT_Total_score                  737 non-null    float64\n",
      " 15  CDT_Total_score_p                737 non-null    object \n",
      " 16  K_TMT_E_A_success                2032 non-null   object \n",
      " 17  K_TMT_E_A_error                  1974 non-null   float64\n",
      " 18  K_TMT_E_B_success                1780 non-null   object \n",
      " 19  K_TMT_E_B_error                  1267 non-null   float64\n",
      " 20  CDR                              2213 non-null   float64\n",
      " 21  Sum_of_boxes                     2206 non-null   float64\n",
      " 22  SGDS                             2080 non-null   float64\n",
      " 23  K_IADL_Score                     1884 non-null   float64\n",
      " 24  Global_DS                        2178 non-null   float64\n",
      "dtypes: float64(15), int64(2), object(8)\n",
      "memory usage: 435.9+ KB\n"
     ]
    }
   ],
   "source": [
    "# Data 정보 확인\n",
    "data_table.info()"
   ]
  },
  {
   "cell_type": "markdown",
   "metadata": {},
   "source": [
    "- <b>Total Data Row</b> : 2230개(Feature Row 제외)\n",
    "- <b>결측치가 존재하는 Column</b> : Hospital No, education, Rey_CFT_copy_score, Rey_CFT_copy_score_p, Alternating_square_and_triangle, Luria_loop, K_MMSE_drawing, K_MMSE_drawing_p, CDR, Sum_of_boxes"
   ]
  },
  {
   "cell_type": "code",
   "execution_count": 57,
   "metadata": {},
   "outputs": [
    {
     "data": {
      "text/html": [
       "<div>\n",
       "<style scoped>\n",
       "    .dataframe tbody tr th:only-of-type {\n",
       "        vertical-align: middle;\n",
       "    }\n",
       "\n",
       "    .dataframe tbody tr th {\n",
       "        vertical-align: top;\n",
       "    }\n",
       "\n",
       "    .dataframe thead th {\n",
       "        text-align: right;\n",
       "    }\n",
       "</style>\n",
       "<table border=\"1\" class=\"dataframe\">\n",
       "  <thead>\n",
       "    <tr style=\"text-align: right;\">\n",
       "      <th></th>\n",
       "      <th>Hospital No</th>\n",
       "      <th>Age</th>\n",
       "      <th>sex</th>\n",
       "      <th>education</th>\n",
       "      <th>edu_years</th>\n",
       "      <th>Rey_CFT_copy_score</th>\n",
       "      <th>Rey_CFT_copy_score_p</th>\n",
       "      <th>Alternating_square_and_triangle</th>\n",
       "      <th>Luria_loop</th>\n",
       "      <th>K_MMSE_drawing</th>\n",
       "      <th>...</th>\n",
       "      <th>CDT_Total_score_p</th>\n",
       "      <th>K_TMT_E_A_success</th>\n",
       "      <th>K_TMT_E_A_error</th>\n",
       "      <th>K_TMT_E_B_success</th>\n",
       "      <th>K_TMT_E_B_error</th>\n",
       "      <th>CDR</th>\n",
       "      <th>Sum_of_boxes</th>\n",
       "      <th>SGDS</th>\n",
       "      <th>K_IADL_Score</th>\n",
       "      <th>Global_DS</th>\n",
       "    </tr>\n",
       "  </thead>\n",
       "  <tbody>\n",
       "    <tr>\n",
       "      <th>0</th>\n",
       "      <td>938443</td>\n",
       "      <td>75</td>\n",
       "      <td>0</td>\n",
       "      <td>대졸</td>\n",
       "      <td>14.0</td>\n",
       "      <td>17.0</td>\n",
       "      <td>0.00</td>\n",
       "      <td>Normal</td>\n",
       "      <td>Normal</td>\n",
       "      <td>1.0</td>\n",
       "      <td>...</td>\n",
       "      <td>NaN</td>\n",
       "      <td>Success</td>\n",
       "      <td>0.0</td>\n",
       "      <td>Fail</td>\n",
       "      <td>NaN</td>\n",
       "      <td>1.0</td>\n",
       "      <td>8.0</td>\n",
       "      <td>13.0</td>\n",
       "      <td>1.90</td>\n",
       "      <td>5.0</td>\n",
       "    </tr>\n",
       "    <tr>\n",
       "      <th>1</th>\n",
       "      <td>1407055</td>\n",
       "      <td>85</td>\n",
       "      <td>1</td>\n",
       "      <td>고중퇴</td>\n",
       "      <td>11.0</td>\n",
       "      <td>1.5</td>\n",
       "      <td>0.00</td>\n",
       "      <td>Normal</td>\n",
       "      <td>Normal</td>\n",
       "      <td>1.0</td>\n",
       "      <td>...</td>\n",
       "      <td>NaN</td>\n",
       "      <td>Success</td>\n",
       "      <td>0.0</td>\n",
       "      <td>Fail</td>\n",
       "      <td>NaN</td>\n",
       "      <td>1.0</td>\n",
       "      <td>6.0</td>\n",
       "      <td>8.0</td>\n",
       "      <td>1.56</td>\n",
       "      <td>4.0</td>\n",
       "    </tr>\n",
       "    <tr>\n",
       "      <th>2</th>\n",
       "      <td>970997</td>\n",
       "      <td>80</td>\n",
       "      <td>0</td>\n",
       "      <td>고졸</td>\n",
       "      <td>12.0</td>\n",
       "      <td>36.0</td>\n",
       "      <td>88.34</td>\n",
       "      <td>Normal</td>\n",
       "      <td>Normal</td>\n",
       "      <td>1.0</td>\n",
       "      <td>...</td>\n",
       "      <td>NaN</td>\n",
       "      <td>Success</td>\n",
       "      <td>0.0</td>\n",
       "      <td>Success</td>\n",
       "      <td>1.0</td>\n",
       "      <td>0.5</td>\n",
       "      <td>1.5</td>\n",
       "      <td>5.0</td>\n",
       "      <td>0.20</td>\n",
       "      <td>3.0</td>\n",
       "    </tr>\n",
       "    <tr>\n",
       "      <th>3</th>\n",
       "      <td>991395</td>\n",
       "      <td>75</td>\n",
       "      <td>0</td>\n",
       "      <td>초4~6년</td>\n",
       "      <td>6.0</td>\n",
       "      <td>26.0</td>\n",
       "      <td>31.10</td>\n",
       "      <td>Normal</td>\n",
       "      <td>Normal</td>\n",
       "      <td>0.0</td>\n",
       "      <td>...</td>\n",
       "      <td>NaN</td>\n",
       "      <td>Success</td>\n",
       "      <td>0.0</td>\n",
       "      <td>Fail</td>\n",
       "      <td>NaN</td>\n",
       "      <td>0.5</td>\n",
       "      <td>2.5</td>\n",
       "      <td>2.0</td>\n",
       "      <td>NaN</td>\n",
       "      <td>3.0</td>\n",
       "    </tr>\n",
       "    <tr>\n",
       "      <th>4</th>\n",
       "      <td>891889</td>\n",
       "      <td>73</td>\n",
       "      <td>0</td>\n",
       "      <td>고졸</td>\n",
       "      <td>12.0</td>\n",
       "      <td>18.0</td>\n",
       "      <td>0.00</td>\n",
       "      <td>Normal</td>\n",
       "      <td>Normal</td>\n",
       "      <td>1.0</td>\n",
       "      <td>...</td>\n",
       "      <td>NaN</td>\n",
       "      <td>Success</td>\n",
       "      <td>0.0</td>\n",
       "      <td>Fail</td>\n",
       "      <td>NaN</td>\n",
       "      <td>0.5</td>\n",
       "      <td>2.5</td>\n",
       "      <td>2.0</td>\n",
       "      <td>0.10</td>\n",
       "      <td>3.0</td>\n",
       "    </tr>\n",
       "  </tbody>\n",
       "</table>\n",
       "<p>5 rows × 25 columns</p>\n",
       "</div>"
      ],
      "text/plain": [
       "  Hospital No  Age  sex education  edu_years  Rey_CFT_copy_score  \\\n",
       "0      938443   75    0        대졸       14.0                17.0   \n",
       "1     1407055   85    1       고중퇴       11.0                 1.5   \n",
       "2      970997   80    0        고졸       12.0                36.0   \n",
       "3      991395   75    0     초4~6년        6.0                26.0   \n",
       "4      891889   73    0        고졸       12.0                18.0   \n",
       "\n",
       "   Rey_CFT_copy_score_p Alternating_square_and_triangle Luria_loop  \\\n",
       "0                  0.00                          Normal     Normal   \n",
       "1                  0.00                          Normal     Normal   \n",
       "2                 88.34                          Normal     Normal   \n",
       "3                 31.10                          Normal     Normal   \n",
       "4                  0.00                          Normal     Normal   \n",
       "\n",
       "   K_MMSE_drawing  ... CDT_Total_score_p  K_TMT_E_A_success  K_TMT_E_A_error  \\\n",
       "0             1.0  ...               NaN            Success              0.0   \n",
       "1             1.0  ...               NaN            Success              0.0   \n",
       "2             1.0  ...               NaN            Success              0.0   \n",
       "3             0.0  ...               NaN            Success              0.0   \n",
       "4             1.0  ...               NaN            Success              0.0   \n",
       "\n",
       "   K_TMT_E_B_success  K_TMT_E_B_error  CDR Sum_of_boxes  SGDS K_IADL_Score  \\\n",
       "0               Fail              NaN  1.0          8.0  13.0         1.90   \n",
       "1               Fail              NaN  1.0          6.0   8.0         1.56   \n",
       "2            Success              1.0  0.5          1.5   5.0         0.20   \n",
       "3               Fail              NaN  0.5          2.5   2.0          NaN   \n",
       "4               Fail              NaN  0.5          2.5   2.0         0.10   \n",
       "\n",
       "   Global_DS  \n",
       "0        5.0  \n",
       "1        4.0  \n",
       "2        3.0  \n",
       "3        3.0  \n",
       "4        3.0  \n",
       "\n",
       "[5 rows x 25 columns]"
      ]
     },
     "execution_count": 57,
     "metadata": {},
     "output_type": "execute_result"
    }
   ],
   "source": [
    "# Data Sample 5개 조회\n",
    "data_table.head(5)"
   ]
  },
  {
   "cell_type": "markdown",
   "metadata": {},
   "source": [
    "### Feature Deleting\n"
   ]
  },
  {
   "cell_type": "code",
   "execution_count": 58,
   "metadata": {},
   "outputs": [
    {
     "data": {
      "text/html": [
       "<div>\n",
       "<style scoped>\n",
       "    .dataframe tbody tr th:only-of-type {\n",
       "        vertical-align: middle;\n",
       "    }\n",
       "\n",
       "    .dataframe tbody tr th {\n",
       "        vertical-align: top;\n",
       "    }\n",
       "\n",
       "    .dataframe thead th {\n",
       "        text-align: right;\n",
       "    }\n",
       "</style>\n",
       "<table border=\"1\" class=\"dataframe\">\n",
       "  <thead>\n",
       "    <tr style=\"text-align: right;\">\n",
       "      <th></th>\n",
       "      <th>Age</th>\n",
       "      <th>sex</th>\n",
       "      <th>edu_years</th>\n",
       "      <th>Rey_CFT_copy_score</th>\n",
       "      <th>Rey_CFT_copy_score_p</th>\n",
       "      <th>K_MMSE_drawing</th>\n",
       "      <th>CDT_Contour</th>\n",
       "      <th>CDT_Numbers</th>\n",
       "      <th>CDT_time_setting</th>\n",
       "      <th>CDT_Total_score</th>\n",
       "      <th>K_TMT_E_A_error</th>\n",
       "      <th>K_TMT_E_B_error</th>\n",
       "      <th>CDR</th>\n",
       "      <th>Sum_of_boxes</th>\n",
       "      <th>SGDS</th>\n",
       "      <th>K_IADL_Score</th>\n",
       "      <th>Global_DS</th>\n",
       "    </tr>\n",
       "  </thead>\n",
       "  <tbody>\n",
       "    <tr>\n",
       "      <th>count</th>\n",
       "      <td>2231.000000</td>\n",
       "      <td>2231.000000</td>\n",
       "      <td>2231.000000</td>\n",
       "      <td>2211.000000</td>\n",
       "      <td>2211.000000</td>\n",
       "      <td>2219.000000</td>\n",
       "      <td>737.000000</td>\n",
       "      <td>737.000000</td>\n",
       "      <td>737.000000</td>\n",
       "      <td>737.000000</td>\n",
       "      <td>1974.000000</td>\n",
       "      <td>1267.000000</td>\n",
       "      <td>2213.000000</td>\n",
       "      <td>2206.000000</td>\n",
       "      <td>2080.000000</td>\n",
       "      <td>1884.000000</td>\n",
       "      <td>2178.000000</td>\n",
       "    </tr>\n",
       "    <tr>\n",
       "      <th>mean</th>\n",
       "      <td>71.789332</td>\n",
       "      <td>0.370686</td>\n",
       "      <td>8.603541</td>\n",
       "      <td>25.252261</td>\n",
       "      <td>34.992533</td>\n",
       "      <td>0.657503</td>\n",
       "      <td>0.964722</td>\n",
       "      <td>0.618725</td>\n",
       "      <td>0.445047</td>\n",
       "      <td>2.028494</td>\n",
       "      <td>0.203141</td>\n",
       "      <td>1.149961</td>\n",
       "      <td>0.653163</td>\n",
       "      <td>3.321850</td>\n",
       "      <td>5.772115</td>\n",
       "      <td>0.707601</td>\n",
       "      <td>3.203857</td>\n",
       "    </tr>\n",
       "    <tr>\n",
       "      <th>std</th>\n",
       "      <td>9.917349</td>\n",
       "      <td>0.483097</td>\n",
       "      <td>5.163496</td>\n",
       "      <td>10.098891</td>\n",
       "      <td>31.799450</td>\n",
       "      <td>0.474652</td>\n",
       "      <td>0.184607</td>\n",
       "      <td>0.486030</td>\n",
       "      <td>0.497309</td>\n",
       "      <td>0.888025</td>\n",
       "      <td>0.698104</td>\n",
       "      <td>1.640596</td>\n",
       "      <td>0.346833</td>\n",
       "      <td>2.310283</td>\n",
       "      <td>4.314588</td>\n",
       "      <td>0.965661</td>\n",
       "      <td>0.933107</td>\n",
       "    </tr>\n",
       "    <tr>\n",
       "      <th>min</th>\n",
       "      <td>45.000000</td>\n",
       "      <td>0.000000</td>\n",
       "      <td>0.000000</td>\n",
       "      <td>0.000000</td>\n",
       "      <td>0.000000</td>\n",
       "      <td>0.000000</td>\n",
       "      <td>0.000000</td>\n",
       "      <td>0.000000</td>\n",
       "      <td>0.000000</td>\n",
       "      <td>0.000000</td>\n",
       "      <td>0.000000</td>\n",
       "      <td>0.000000</td>\n",
       "      <td>0.000000</td>\n",
       "      <td>0.000000</td>\n",
       "      <td>0.000000</td>\n",
       "      <td>0.000000</td>\n",
       "      <td>1.000000</td>\n",
       "    </tr>\n",
       "    <tr>\n",
       "      <th>25%</th>\n",
       "      <td>67.000000</td>\n",
       "      <td>0.000000</td>\n",
       "      <td>6.000000</td>\n",
       "      <td>18.500000</td>\n",
       "      <td>1.600000</td>\n",
       "      <td>0.000000</td>\n",
       "      <td>1.000000</td>\n",
       "      <td>0.000000</td>\n",
       "      <td>0.000000</td>\n",
       "      <td>1.000000</td>\n",
       "      <td>0.000000</td>\n",
       "      <td>0.000000</td>\n",
       "      <td>0.500000</td>\n",
       "      <td>2.000000</td>\n",
       "      <td>2.000000</td>\n",
       "      <td>0.100000</td>\n",
       "      <td>3.000000</td>\n",
       "    </tr>\n",
       "    <tr>\n",
       "      <th>50%</th>\n",
       "      <td>74.000000</td>\n",
       "      <td>0.000000</td>\n",
       "      <td>8.000000</td>\n",
       "      <td>29.000000</td>\n",
       "      <td>28.760000</td>\n",
       "      <td>1.000000</td>\n",
       "      <td>1.000000</td>\n",
       "      <td>1.000000</td>\n",
       "      <td>0.000000</td>\n",
       "      <td>2.000000</td>\n",
       "      <td>0.000000</td>\n",
       "      <td>1.000000</td>\n",
       "      <td>0.500000</td>\n",
       "      <td>2.500000</td>\n",
       "      <td>5.000000</td>\n",
       "      <td>0.370000</td>\n",
       "      <td>3.000000</td>\n",
       "    </tr>\n",
       "    <tr>\n",
       "      <th>75%</th>\n",
       "      <td>79.000000</td>\n",
       "      <td>1.000000</td>\n",
       "      <td>12.000000</td>\n",
       "      <td>33.375000</td>\n",
       "      <td>65.400000</td>\n",
       "      <td>1.000000</td>\n",
       "      <td>1.000000</td>\n",
       "      <td>1.000000</td>\n",
       "      <td>1.000000</td>\n",
       "      <td>3.000000</td>\n",
       "      <td>0.000000</td>\n",
       "      <td>2.000000</td>\n",
       "      <td>0.500000</td>\n",
       "      <td>4.000000</td>\n",
       "      <td>9.000000</td>\n",
       "      <td>1.100000</td>\n",
       "      <td>4.000000</td>\n",
       "    </tr>\n",
       "    <tr>\n",
       "      <th>max</th>\n",
       "      <td>90.000000</td>\n",
       "      <td>1.000000</td>\n",
       "      <td>18.000000</td>\n",
       "      <td>36.000000</td>\n",
       "      <td>91.360000</td>\n",
       "      <td>1.000000</td>\n",
       "      <td>1.000000</td>\n",
       "      <td>1.000000</td>\n",
       "      <td>1.000000</td>\n",
       "      <td>3.000000</td>\n",
       "      <td>10.000000</td>\n",
       "      <td>15.000000</td>\n",
       "      <td>3.500000</td>\n",
       "      <td>16.000000</td>\n",
       "      <td>15.000000</td>\n",
       "      <td>26.000000</td>\n",
       "      <td>6.000000</td>\n",
       "    </tr>\n",
       "  </tbody>\n",
       "</table>\n",
       "</div>"
      ],
      "text/plain": [
       "               Age          sex    edu_years  Rey_CFT_copy_score  \\\n",
       "count  2231.000000  2231.000000  2231.000000         2211.000000   \n",
       "mean     71.789332     0.370686     8.603541           25.252261   \n",
       "std       9.917349     0.483097     5.163496           10.098891   \n",
       "min      45.000000     0.000000     0.000000            0.000000   \n",
       "25%      67.000000     0.000000     6.000000           18.500000   \n",
       "50%      74.000000     0.000000     8.000000           29.000000   \n",
       "75%      79.000000     1.000000    12.000000           33.375000   \n",
       "max      90.000000     1.000000    18.000000           36.000000   \n",
       "\n",
       "       Rey_CFT_copy_score_p  K_MMSE_drawing  CDT_Contour  CDT_Numbers  \\\n",
       "count           2211.000000     2219.000000   737.000000   737.000000   \n",
       "mean              34.992533        0.657503     0.964722     0.618725   \n",
       "std               31.799450        0.474652     0.184607     0.486030   \n",
       "min                0.000000        0.000000     0.000000     0.000000   \n",
       "25%                1.600000        0.000000     1.000000     0.000000   \n",
       "50%               28.760000        1.000000     1.000000     1.000000   \n",
       "75%               65.400000        1.000000     1.000000     1.000000   \n",
       "max               91.360000        1.000000     1.000000     1.000000   \n",
       "\n",
       "       CDT_time_setting  CDT_Total_score  K_TMT_E_A_error  K_TMT_E_B_error  \\\n",
       "count        737.000000       737.000000      1974.000000      1267.000000   \n",
       "mean           0.445047         2.028494         0.203141         1.149961   \n",
       "std            0.497309         0.888025         0.698104         1.640596   \n",
       "min            0.000000         0.000000         0.000000         0.000000   \n",
       "25%            0.000000         1.000000         0.000000         0.000000   \n",
       "50%            0.000000         2.000000         0.000000         1.000000   \n",
       "75%            1.000000         3.000000         0.000000         2.000000   \n",
       "max            1.000000         3.000000        10.000000        15.000000   \n",
       "\n",
       "               CDR  Sum_of_boxes         SGDS  K_IADL_Score    Global_DS  \n",
       "count  2213.000000   2206.000000  2080.000000   1884.000000  2178.000000  \n",
       "mean      0.653163      3.321850     5.772115      0.707601     3.203857  \n",
       "std       0.346833      2.310283     4.314588      0.965661     0.933107  \n",
       "min       0.000000      0.000000     0.000000      0.000000     1.000000  \n",
       "25%       0.500000      2.000000     2.000000      0.100000     3.000000  \n",
       "50%       0.500000      2.500000     5.000000      0.370000     3.000000  \n",
       "75%       0.500000      4.000000     9.000000      1.100000     4.000000  \n",
       "max       3.500000     16.000000    15.000000     26.000000     6.000000  "
      ]
     },
     "execution_count": 58,
     "metadata": {},
     "output_type": "execute_result"
    }
   ],
   "source": [
    "# 대략적인 Data 분포 확인\n",
    "data_table.describe()"
   ]
  },
  {
   "cell_type": "code",
   "execution_count": 59,
   "metadata": {},
   "outputs": [
    {
     "data": {
      "text/html": [
       "<div>\n",
       "<style scoped>\n",
       "    .dataframe tbody tr th:only-of-type {\n",
       "        vertical-align: middle;\n",
       "    }\n",
       "\n",
       "    .dataframe tbody tr th {\n",
       "        vertical-align: top;\n",
       "    }\n",
       "\n",
       "    .dataframe thead th {\n",
       "        text-align: right;\n",
       "    }\n",
       "</style>\n",
       "<table border=\"1\" class=\"dataframe\">\n",
       "  <thead>\n",
       "    <tr style=\"text-align: right;\">\n",
       "      <th></th>\n",
       "      <th>Age</th>\n",
       "      <th>sex</th>\n",
       "      <th>edu_years</th>\n",
       "      <th>Rey_CFT_copy_score</th>\n",
       "      <th>Alternating_square_and_triangle</th>\n",
       "      <th>Luria_loop</th>\n",
       "      <th>K_MMSE_drawing</th>\n",
       "      <th>K_TMT_E_A_success</th>\n",
       "      <th>K_TMT_E_B_success</th>\n",
       "      <th>CDR</th>\n",
       "      <th>Sum_of_boxes</th>\n",
       "    </tr>\n",
       "  </thead>\n",
       "  <tbody>\n",
       "    <tr>\n",
       "      <th>0</th>\n",
       "      <td>75</td>\n",
       "      <td>0</td>\n",
       "      <td>14.0</td>\n",
       "      <td>17.0</td>\n",
       "      <td>Normal</td>\n",
       "      <td>Normal</td>\n",
       "      <td>1.0</td>\n",
       "      <td>Success</td>\n",
       "      <td>Fail</td>\n",
       "      <td>1.0</td>\n",
       "      <td>8.0</td>\n",
       "    </tr>\n",
       "    <tr>\n",
       "      <th>1</th>\n",
       "      <td>85</td>\n",
       "      <td>1</td>\n",
       "      <td>11.0</td>\n",
       "      <td>1.5</td>\n",
       "      <td>Normal</td>\n",
       "      <td>Normal</td>\n",
       "      <td>1.0</td>\n",
       "      <td>Success</td>\n",
       "      <td>Fail</td>\n",
       "      <td>1.0</td>\n",
       "      <td>6.0</td>\n",
       "    </tr>\n",
       "    <tr>\n",
       "      <th>2</th>\n",
       "      <td>80</td>\n",
       "      <td>0</td>\n",
       "      <td>12.0</td>\n",
       "      <td>36.0</td>\n",
       "      <td>Normal</td>\n",
       "      <td>Normal</td>\n",
       "      <td>1.0</td>\n",
       "      <td>Success</td>\n",
       "      <td>Success</td>\n",
       "      <td>0.5</td>\n",
       "      <td>1.5</td>\n",
       "    </tr>\n",
       "  </tbody>\n",
       "</table>\n",
       "</div>"
      ],
      "text/plain": [
       "   Age  sex  edu_years  Rey_CFT_copy_score Alternating_square_and_triangle  \\\n",
       "0   75    0       14.0                17.0                          Normal   \n",
       "1   85    1       11.0                 1.5                          Normal   \n",
       "2   80    0       12.0                36.0                          Normal   \n",
       "\n",
       "  Luria_loop  K_MMSE_drawing K_TMT_E_A_success K_TMT_E_B_success  CDR  \\\n",
       "0     Normal             1.0           Success              Fail  1.0   \n",
       "1     Normal             1.0           Success              Fail  1.0   \n",
       "2     Normal             1.0           Success           Success  0.5   \n",
       "\n",
       "   Sum_of_boxes  \n",
       "0           8.0  \n",
       "1           6.0  \n",
       "2           1.5  "
      ]
     },
     "execution_count": 59,
     "metadata": {},
     "output_type": "execute_result"
    }
   ],
   "source": [
    "# 분석에 쓰이지 않는 Feature 제거\n",
    "data_table.drop(['Hospital No'], axis=1, inplace=True)\n",
    "\n",
    "data_table.drop(['education'], axis=1, inplace=True) # edu_y로 대체\n",
    "data_table.drop(['Rey_CFT_copy_score_p'], axis=1, inplace=True) # Rey_CFT_copy_score로 대체\n",
    "data_table.drop(['K_MMSE_drawing_p'], axis=1, inplace=True) # K_MMSE_drawing_p로 대체\n",
    "\n",
    "data_table.drop(['CDT_Contour'], axis=1, inplace=True) # 결측치 다수\n",
    "data_table.drop(['CDT_Numbers'], axis=1, inplace=True) # 결측치 다수\n",
    "data_table.drop(['CDT_time_setting'], axis=1, inplace=True) # 결측치 다수\n",
    "data_table.drop(['CDT_Total_score'], axis=1, inplace=True) # 결측치 다수\n",
    "data_table.drop(['CDT_Total_score_p'], axis=1, inplace=True) # 결측치 다수\n",
    "\n",
    "data_table.drop(['K_TMT_E_A_error'], axis=1, inplace=True) # 자료 해석 불가능\n",
    "data_table.drop(['K_TMT_E_B_error'], axis=1, inplace=True) # 자료 해석 불가능\n",
    "\n",
    "data_table.drop(['SGDS'], axis=1, inplace=True) # 분석에 사용하지 않음\n",
    "data_table.drop(['K_IADL_Score'], axis=1, inplace=True) # 분석에 사용하지 않음\n",
    "data_table.drop(['Global_DS'], axis=1, inplace=True) # 분석에 사용하지 않음\n",
    "\n",
    "data_table.head(3)"
   ]
  },
  {
   "cell_type": "markdown",
   "metadata": {},
   "source": [
    "## Data Encoding\n",
    "<b>Encoding 할 Feature</b> : Alternating_square_and_triangle, Luria_loop  \n",
    "<b>Object Dtype</b> : education, Alternating_square_and_triangle, Luria_loop, K_MMSE_drawing_p\t"
   ]
  },
  {
   "cell_type": "code",
   "execution_count": 60,
   "metadata": {},
   "outputs": [
    {
     "name": "stdout",
     "output_type": "stream",
     "text": [
      "<class 'pandas.core.frame.DataFrame'>\n",
      "RangeIndex: 2231 entries, 0 to 2230\n",
      "Data columns (total 11 columns):\n",
      " #   Column                           Non-Null Count  Dtype  \n",
      "---  ------                           --------------  -----  \n",
      " 0   Age                              2231 non-null   int64  \n",
      " 1   sex                              2231 non-null   int64  \n",
      " 2   edu_years                        2231 non-null   float64\n",
      " 3   Rey_CFT_copy_score               2211 non-null   float64\n",
      " 4   Alternating_square_and_triangle  2054 non-null   object \n",
      " 5   Luria_loop                       2051 non-null   object \n",
      " 6   K_MMSE_drawing                   2219 non-null   float64\n",
      " 7   K_TMT_E_A_success                2032 non-null   object \n",
      " 8   K_TMT_E_B_success                1780 non-null   object \n",
      " 9   CDR                              2213 non-null   float64\n",
      " 10  Sum_of_boxes                     2206 non-null   float64\n",
      "dtypes: float64(5), int64(2), object(4)\n",
      "memory usage: 191.9+ KB\n"
     ]
    }
   ],
   "source": [
    "data_table.info()"
   ]
  },
  {
   "cell_type": "markdown",
   "metadata": {},
   "source": [
    "## Feature 상관관계 히트맵"
   ]
  },
  {
   "cell_type": "code",
   "execution_count": 61,
   "metadata": {},
   "outputs": [
    {
     "data": {
      "text/plain": [
       "<matplotlib.axes._subplots.AxesSubplot at 0x20ff2f19b50>"
      ]
     },
     "execution_count": 61,
     "metadata": {},
     "output_type": "execute_result"
    },
    {
     "data": {
      "image/png": "[encoded data removed]",
      "text/plain": [
       "<Figure size 432x288 with 2 Axes>"
      ]
     },
     "metadata": {
      "needs_background": "light"
     },
     "output_type": "display_data"
    }
   ],
   "source": [
    "# 피처 상관관계 히트맵\n",
    "corr = data_table.corr()\n",
    "sns.heatmap(corr, cmap='RdBu')"
   ]
  },
  {
   "cell_type": "markdown",
   "metadata": {},
   "source": [
    "## 결측치 채우기 - K_MMSE_AVG\n"
   ]
  },
  {
   "cell_type": "markdown",
   "metadata": {},
   "source": [
    "K_MMSE_drawing 피처의 경우 결측지가 존재하면 그 행 데이터를 삭제하기로 한다. 그 이유는 아래와 같다.  \n",
    "- 피처 상관관계가 높은 연령대 데이터를 바탕으로 연령대별 K_MMSE_drawing을 수치화시키고 이를 0 혹은 1로 근사하였다. 결과와 같이 모두 '1'이어서 의미가 없다.\n",
    "- 결측치가 있는 데이터가 12개 밖에 되지 않는다."
   ]
  },
  {
   "cell_type": "code",
   "execution_count": 62,
   "metadata": {},
   "outputs": [
    {
     "name": "stdout",
     "output_type": "stream",
     "text": [
      "연령대 별 평균 K_MMSE 수치 :  0.8831168831168831 0.7920353982300885 0.7582417582417582 0.6112852664576802 0.5595238095238095\n",
      "연령대 별 평균 K_MMSE 이진화 :  1 1 1 1 1\n"
     ]
    }
   ],
   "source": [
    "k_mmse_avg_40 = data_table[data_table['Age']<50]['K_MMSE_drawing'].mean()\n",
    "k_mmse_avg_50 = data_table[(data_table['Age']>=50) & (data_table['Age']<60)]['K_MMSE_drawing'].mean()\n",
    "k_mmse_avg_60 = data_table[(data_table['Age']>=60) & (data_table['Age']<70)]['K_MMSE_drawing'].mean()\n",
    "k_mmse_avg_70 = data_table[(data_table['Age']>=70) & (data_table['Age']<80)]['K_MMSE_drawing'].mean()\n",
    "k_mmse_avg_8090 = data_table[(data_table['Age']>=80) & (data_table['Age']<=90)]['K_MMSE_drawing'].mean()\n",
    "\n",
    "print(\"연령대 별 평균 K_MMSE 수치 : \", k_mmse_avg_40, k_mmse_avg_50,k_mmse_avg_60,k_mmse_avg_70,k_mmse_avg_8090)\n",
    "print(\"연령대 별 평균 K_MMSE 이진화 : \", round(k_mmse_avg_40), round(k_mmse_avg_50),round(k_mmse_avg_60),round(k_mmse_avg_70),round(k_mmse_avg_8090))\n",
    "\n",
    "#data_table[data_table['Age']<60]['K_MMSE_drawing'].fillna(k_mmse_avg_4050, inplace = True)\n",
    "#data_table[(data_table['Age']>=60) & (data_table['Age']<70)]['K_MMSE_drawing'].fillna(k_mmse_avg_60, inplace = True)\n",
    "#data_table[(data_table['Age']>=70) & (data_table['Age']<80)]['K_MMSE_drawing'].fillna(k_mmse_avg_70, inplace = True)\n",
    "#data_table[(data_table['Age']>=80) & (data_table['Age']<=90)]['K_MMSE_drawing'].fillna(k_mmse_avg_8090, inplace = True)\n",
    "\n",
    "#'K_MMSE_drawing' 칼럼에 결측치가 있는 경우 행 제거\n",
    "data_table.dropna(subset=['K_MMSE_drawing'], inplace=True)"
   ]
  },
  {
   "cell_type": "code",
   "execution_count": 63,
   "metadata": {},
   "outputs": [
    {
     "name": "stdout",
     "output_type": "stream",
     "text": [
      "40대:  31.071428571428573\n",
      "50대:  29.548672566371682\n",
      "60대:  28.422737306843267\n",
      "70대:  24.379210526315788\n",
      "80~90대:  21.139\n",
      "0\n"
     ]
    }
   ],
   "source": [
    "data_table2 = pd.read_csv('SNSB_1_figure.csv')\n",
    "\n",
    "Rey_score_40 = data_table[(data_table['Age']<50)]['Rey_CFT_copy_score'].mean()\n",
    "print(\"40대: \", Rey_score_40)\n",
    "Rey_score_50 = data_table[(data_table['Age']<60) & (data_table['Age']>=50) ]['Rey_CFT_copy_score'].mean()\n",
    "print(\"50대: \", Rey_score_50)\n",
    "Rey_score_60= data_table[(data_table['Age']<70) & (data_table['Age']>=60)]['Rey_CFT_copy_score'].mean()\n",
    "print(\"60대: \", Rey_score_60)\n",
    "Rey_score_70= data_table[(data_table['Age']<80) & (data_table['Age']>=70)]['Rey_CFT_copy_score'].mean()\n",
    "print(\"70대: \", Rey_score_70)\n",
    "Rey_score_8090 = data_table[(data_table['Age']<=90) & (data_table['Age']>=80)]['Rey_CFT_copy_score'].mean()\n",
    "print(\"80~90대: \", Rey_score_8090)\n",
    "\n",
    "data_table2[(data_table2['Age']<50)&(data_table2['Rey_CFT_copy_score'].isnull()==True)]=Rey_score_40\n",
    "data_table2[(data_table2['Age']<60) & (data_table2['Age']>=50)&(data_table2['Rey_CFT_copy_score'].isnull()==True) ]=Rey_score_50\n",
    "data_table2[(data_table2['Age']<70) & (data_table2['Age']>=60)&(data_table2['Rey_CFT_copy_score'].isnull()==True) ]=Rey_score_60\n",
    "data_table2[(data_table2['Age']<80) & (data_table2['Age']>=70)&(data_table2['Rey_CFT_copy_score'].isnull()==True) ]=Rey_score_70\n",
    "data_table2[(data_table2['Age']<=90) & (data_table2['Age']>=80)&(data_table2['Rey_CFT_copy_score'].isnull()==True) ]=Rey_score_8090\n",
    "\n",
    "data_table['Rey_CFT_copy_score']=round(data_table2['Rey_CFT_copy_score']) \n",
    "print(data_table['Rey_CFT_copy_score'].isnull().sum())"
   ]
  },
  {
   "cell_type": "markdown",
   "metadata": {},
   "source": [
    "## 결측치 채우기& 이진화 -Alternating_square_and_triangle"
   ]
  },
  {
   "cell_type": "code",
   "execution_count": 64,
   "metadata": {},
   "outputs": [],
   "source": [
    "def get_ast(t):\n",
    "    if t=='Normal': t=1\n",
    "    elif t=='Deformed': t=0\n",
    "    elif t=='Deform&PSV': t=0\n",
    "    elif t=='PSV': t=0\n",
    "    elif t=='N/A': t=''\n",
    "    else : t=''\n",
    "        \n",
    "    return t\n",
    "\n",
    "data_table['Alternating_square_and_triangle']= data_table['Alternating_square_and_triangle'].apply(lambda x: get_ast(x))\n",
    "data_table['Alternating_square_and_triangle'] = data_table['Alternating_square_and_triangle'].apply(pd.to_numeric, errors='coerce')"
   ]
  },
  {
   "cell_type": "code",
   "execution_count": 65,
   "metadata": {},
   "outputs": [
    {
     "name": "stdout",
     "output_type": "stream",
     "text": [
      "Rey_CFT_copy_score별 평균 Alternating_square_and_triangle 수치 :  0.23478260869565218 0.5045317220543807 0.8472222222222222 0.9564336372847011\n",
      "Rey_CFT_copy_score별 평균 Alternating_square_and_triangle 이진화 :  0 1 1 1\n"
     ]
    }
   ],
   "source": [
    "ast_0 = data_table[(data_table['Rey_CFT_copy_score']<10)]['Alternating_square_and_triangle'].mean()\n",
    "ast_10 = data_table[(data_table['Rey_CFT_copy_score']>=10) & (data_table['Rey_CFT_copy_score']<20)]['Alternating_square_and_triangle'].mean()\n",
    "ast_20 = data_table[(data_table['Rey_CFT_copy_score']>=20) & (data_table['Rey_CFT_copy_score']<30)]['Alternating_square_and_triangle'].mean()\n",
    "ast_30 = data_table[(data_table['Rey_CFT_copy_score']>=30) & (data_table['Rey_CFT_copy_score']<40)]['Alternating_square_and_triangle'].mean()\n",
    "data_table2['Alternating_square_and_triangle']=data_table['Alternating_square_and_triangle']\n",
    "print(\"Rey_CFT_copy_score별 평균 Alternating_square_and_triangle 수치 : \", ast_0, ast_10,ast_20,ast_30)\n",
    "print(\"Rey_CFT_copy_score별 평균 Alternating_square_and_triangle 이진화 : \", round(ast_0), round(ast_10),round(ast_20),round(ast_30))"
   ]
  },
  {
   "cell_type": "code",
   "execution_count": 66,
   "metadata": {},
   "outputs": [],
   "source": [
    "data_table2[(data_table2['Rey_CFT_copy_score']<10)&(data_table2['Alternating_square_and_triangle'].isnull()==True)]=ast_0\n",
    "data_table2[(data_table2['Rey_CFT_copy_score']<20) & (data_table2['Rey_CFT_copy_score']>=10)&(data_table2['Alternating_square_and_triangle'].isnull()==True) ]=ast_10\n",
    "data_table2[(data_table2['Rey_CFT_copy_score']<30) & (data_table2['Rey_CFT_copy_score']>=20)&(data_table2['Alternating_square_and_triangle'].isnull()==True) ]=ast_20\n",
    "data_table2[(data_table2['Rey_CFT_copy_score']<40) & (data_table2['Rey_CFT_copy_score']>=30)&(data_table2['Alternating_square_and_triangle'].isnull()==True) ]=ast_30\n",
    "data_table['Alternating_square_and_triangle']=round(data_table2['Alternating_square_and_triangle'])"
   ]
  },
  {
   "cell_type": "markdown",
   "metadata": {},
   "source": [
    "## 결측치 채우기& 이진화- Lurial loop"
   ]
  },
  {
   "cell_type": "code",
   "execution_count": 67,
   "metadata": {},
   "outputs": [],
   "source": [
    "data_table2 = pd.read_csv('SNSB_1_figure.csv')\n",
    "data_table['Luria_loop']= data_table['Luria_loop'].apply(lambda x: get_ast(x))\n",
    "data_table['Luria_loop']=data_table['Luria_loop'].apply(pd.to_numeric, errors='coerce')"
   ]
  },
  {
   "cell_type": "code",
   "execution_count": 68,
   "metadata": {},
   "outputs": [
    {
     "name": "stdout",
     "output_type": "stream",
     "text": [
      "연령대 별 평균 Luria_loop 수치 :  0.27467811158798283 0.5075528700906344 0.8323353293413174 0.9613821138211383\n",
      "연령대 별 평균 Luria_loop 이진화 :  0 1 1 1\n"
     ]
    }
   ],
   "source": [
    "llp_0 = data_table[data_table['Rey_CFT_copy_score']<10]['Luria_loop'].mean()\n",
    "llp_10 = data_table[(data_table['Rey_CFT_copy_score']>=10) & (data_table['Rey_CFT_copy_score']<20)]['Luria_loop'].mean()\n",
    "llp_20 = data_table[(data_table['Rey_CFT_copy_score']>=20) & (data_table['Rey_CFT_copy_score']<30)]['Luria_loop'].mean()\n",
    "llp_30 = data_table[(data_table['Rey_CFT_copy_score']>=30) & (data_table['Rey_CFT_copy_score']<40)]['Luria_loop'].mean()\n",
    "data_table2['Luria_loop']= data_table['Luria_loop']\n",
    "data_table2['Rey_CFT_copy_score'] = data_table['Rey_CFT_copy_score']\n",
    "print(\"연령대 별 평균 Luria_loop 수치 : \", llp_0, llp_10,llp_20,llp_30)\n",
    "print(\"연령대 별 평균 Luria_loop 이진화 : \", round(llp_0), round(llp_10),round(llp_20),round(llp_30))"
   ]
  },
  {
   "cell_type": "code",
   "execution_count": 69,
   "metadata": {},
   "outputs": [],
   "source": [
    "data_table2[(data_table2['Rey_CFT_copy_score']<10) & (data_table2['Luria_loop'].isnull()==True)]=llp_0\n",
    "data_table2[(data_table2['Rey_CFT_copy_score']<20) & (data_table2['Rey_CFT_copy_score']>=10)&(data_table2['Luria_loop'].isnull()==True) ]=llp_10\n",
    "data_table2[(data_table2['Rey_CFT_copy_score']<30) & (data_table2['Rey_CFT_copy_score']>=20)&(data_table2['Luria_loop'].isnull()==True) ]=llp_20\n",
    "data_table2[(data_table2['Rey_CFT_copy_score']<40) & (data_table2['Rey_CFT_copy_score']>=30)&(data_table2['Luria_loop'].isnull()==True) ]=llp_30\n",
    "data_table['Luria_loop']=round(data_table2['Luria_loop'])"
   ]
  },
  {
   "cell_type": "markdown",
   "metadata": {},
   "source": [
    "## 결측치 채우기& 이진화- K_TMT_E_A_success"
   ]
  },
  {
   "cell_type": "code",
   "execution_count": 70,
   "metadata": {},
   "outputs": [],
   "source": [
    "def get_tmta(t):\n",
    "    if t=='Success': t=1\n",
    "    elif t=='Fail': t=0\n",
    "    elif t=='N/A': t=''\n",
    "    else : t=''\n",
    "        \n",
    "    return t\n",
    "     \n",
    "data_table2 = pd.read_csv('SNSB_1_figure.csv')\n",
    "data_table['K_TMT_E_A_success']= data_table['K_TMT_E_A_success'].apply(lambda x: get_tmta(x))\n",
    "data_table['K_TMT_E_A_success']=data_table['K_TMT_E_A_success'].apply(pd.to_numeric, errors='coerce')"
   ]
  },
  {
   "cell_type": "code",
   "execution_count": 71,
   "metadata": {},
   "outputs": [
    {
     "name": "stdout",
     "output_type": "stream",
     "text": [
      "연령대 별 평균 K_TMT_E_A_success 수치 :  0.7409326424870466 0.94375 0.9961389961389961 1.0\n",
      "연령대 별 평균 K_TMT_E_A_success 이진화 :  1 1 1 1\n"
     ]
    }
   ],
   "source": [
    "tmtea_0 = data_table[data_table['Rey_CFT_copy_score']<10]['K_TMT_E_A_success'].mean()\n",
    "tmtea_10 = data_table[(data_table['Rey_CFT_copy_score']>=10) & (data_table['Rey_CFT_copy_score']<20)]['K_TMT_E_A_success'].mean()\n",
    "tmtea_20 = data_table[(data_table['Rey_CFT_copy_score']>=20) & (data_table['Rey_CFT_copy_score']<30)]['K_TMT_E_A_success'].mean()\n",
    "tmtea_30 = data_table[(data_table['Rey_CFT_copy_score']>=30) & (data_table['Rey_CFT_copy_score']<40)]['K_TMT_E_A_success'].mean()\n",
    "data_table2['K_TMT_E_A_success']= data_table['K_TMT_E_A_success']\n",
    "data_table2['Rey_CFT_copy_score'] = data_table['Rey_CFT_copy_score']\n",
    "print(\"연령대 별 평균 K_TMT_E_A_success 수치 : \", tmtea_0, tmtea_10,tmtea_20,tmtea_30)\n",
    "print(\"연령대 별 평균 K_TMT_E_A_success 이진화 : \", round(tmtea_0), round(tmtea_10),round(tmtea_20),round(tmtea_30))"
   ]
  },
  {
   "cell_type": "code",
   "execution_count": 72,
   "metadata": {},
   "outputs": [],
   "source": [
    "data_table2[(data_table2['Rey_CFT_copy_score']<10) & (data_table2['K_TMT_E_A_success'].isnull()==True)]=tmtea_0\n",
    "data_table2[(data_table2['Rey_CFT_copy_score']<20) & (data_table2['Rey_CFT_copy_score']>=10)&(data_table2['K_TMT_E_A_success'].isnull()==True) ]=tmtea_10\n",
    "data_table2[(data_table2['Rey_CFT_copy_score']<30) & (data_table2['Rey_CFT_copy_score']>=20)&(data_table2['K_TMT_E_A_success'].isnull()==True) ]=tmtea_20\n",
    "data_table2[(data_table2['Rey_CFT_copy_score']<40) & (data_table2['Rey_CFT_copy_score']>=30)&(data_table2['K_TMT_E_A_success'].isnull()==True) ]=tmtea_30\n",
    "data_table['K_TMT_E_A_success']=round(data_table2['K_TMT_E_A_success'])"
   ]
  },
  {
   "cell_type": "markdown",
   "metadata": {},
   "source": [
    "## 결측치 채우기& 이진화- K_TMT_E_B_success"
   ]
  },
  {
   "cell_type": "code",
   "execution_count": 73,
   "metadata": {},
   "outputs": [],
   "source": [
    "data_table2 = pd.read_csv('SNSB_1_figure.csv')\n",
    "def get_tmtb(t):\n",
    "    if t=='Success': t=1\n",
    "    elif t=='Fail': t=0\n",
    "    elif t==0 : t=0\n",
    "    elif t=='N/A': t=''\n",
    "    else : t=''\n",
    "        \n",
    "    return t\n",
    "\n",
    "data_table2[(data_table2['K_TMT_E_A_success']=='Fail') &(data_table['K_TMT_E_B_success'].isnull()==True)]=0\n",
    "data_table['K_TMT_E_B_success'] = data_table2['K_TMT_E_B_success']\n",
    "data_table['K_TMT_E_B_success']= data_table['K_TMT_E_B_success'].apply(lambda x: get_tmtb(x))\n",
    "data_table['K_TMT_E_B_success']= data_table['K_TMT_E_B_success'].apply(pd.to_numeric, errors='coerce')"
   ]
  },
  {
   "cell_type": "code",
   "execution_count": 74,
   "metadata": {},
   "outputs": [
    {
     "name": "stdout",
     "output_type": "stream",
     "text": [
      "연령대 별 평균 K_TMT_E_B_success 수치 :  0.0 0.6836158192090396\n",
      "연령대 별 평균 K_TMT_E_B_success 이진화 :  0 1\n"
     ]
    }
   ],
   "source": [
    "tmteb_0 = data_table[data_table['K_TMT_E_A_success']==0]['K_TMT_E_B_success'].mean()\n",
    "tmteb_1 = data_table[data_table['K_TMT_E_A_success']==1]['K_TMT_E_B_success'].mean()\n",
    "data_table2['K_TMT_E_B_success']= data_table['K_TMT_E_B_success']\n",
    "data_table2['K_TMT_E_A_success']= data_table['K_TMT_E_A_success']\n",
    "print(\"연령대 별 평균 K_TMT_E_B_success 수치 : \", tmteb_0, tmteb_1)\n",
    "print(\"연령대 별 평균 K_TMT_E_B_success 이진화 : \", round(tmteb_0), round(tmteb_1))"
   ]
  },
  {
   "cell_type": "code",
   "execution_count": 75,
   "metadata": {},
   "outputs": [],
   "source": [
    "data_table2[(data_table['K_TMT_E_A_success']==0) & (data_table2['K_TMT_E_B_success'].isnull()==True)]=tmteb_0\n",
    "data_table2[(data_table2['K_TMT_E_A_success']==1) & (data_table2['K_TMT_E_B_success'].isnull()==True) ]=tmteb_1\n",
    "data_table['K_TMT_E_B_success']=round(data_table2['K_TMT_E_B_success'])"
   ]
  },
  {
   "cell_type": "markdown",
   "metadata": {},
   "source": [
    "## 데이터 확인"
   ]
  },
  {
   "cell_type": "code",
   "execution_count": 76,
   "metadata": {},
   "outputs": [
    {
     "data": {
      "text/html": [
       "<div>\n",
       "<style scoped>\n",
       "    .dataframe tbody tr th:only-of-type {\n",
       "        vertical-align: middle;\n",
       "    }\n",
       "\n",
       "    .dataframe tbody tr th {\n",
       "        vertical-align: top;\n",
       "    }\n",
       "\n",
       "    .dataframe thead th {\n",
       "        text-align: right;\n",
       "    }\n",
       "</style>\n",
       "<table border=\"1\" class=\"dataframe\">\n",
       "  <thead>\n",
       "    <tr style=\"text-align: right;\">\n",
       "      <th></th>\n",
       "      <th>Age</th>\n",
       "      <th>sex</th>\n",
       "      <th>edu_years</th>\n",
       "      <th>Rey_CFT_copy_score</th>\n",
       "      <th>Alternating_square_and_triangle</th>\n",
       "      <th>Luria_loop</th>\n",
       "      <th>K_MMSE_drawing</th>\n",
       "      <th>K_TMT_E_A_success</th>\n",
       "      <th>K_TMT_E_B_success</th>\n",
       "      <th>CDR</th>\n",
       "      <th>Sum_of_boxes</th>\n",
       "    </tr>\n",
       "  </thead>\n",
       "  <tbody>\n",
       "    <tr>\n",
       "      <th>0</th>\n",
       "      <td>75</td>\n",
       "      <td>0</td>\n",
       "      <td>14.0</td>\n",
       "      <td>17.0</td>\n",
       "      <td>1.0</td>\n",
       "      <td>1.0</td>\n",
       "      <td>1.0</td>\n",
       "      <td>1.0</td>\n",
       "      <td>0.0</td>\n",
       "      <td>1.0</td>\n",
       "      <td>8.0</td>\n",
       "    </tr>\n",
       "    <tr>\n",
       "      <th>1</th>\n",
       "      <td>85</td>\n",
       "      <td>1</td>\n",
       "      <td>11.0</td>\n",
       "      <td>2.0</td>\n",
       "      <td>1.0</td>\n",
       "      <td>1.0</td>\n",
       "      <td>1.0</td>\n",
       "      <td>1.0</td>\n",
       "      <td>0.0</td>\n",
       "      <td>1.0</td>\n",
       "      <td>6.0</td>\n",
       "    </tr>\n",
       "    <tr>\n",
       "      <th>2</th>\n",
       "      <td>80</td>\n",
       "      <td>0</td>\n",
       "      <td>12.0</td>\n",
       "      <td>36.0</td>\n",
       "      <td>1.0</td>\n",
       "      <td>1.0</td>\n",
       "      <td>1.0</td>\n",
       "      <td>1.0</td>\n",
       "      <td>1.0</td>\n",
       "      <td>0.5</td>\n",
       "      <td>1.5</td>\n",
       "    </tr>\n",
       "    <tr>\n",
       "      <th>3</th>\n",
       "      <td>75</td>\n",
       "      <td>0</td>\n",
       "      <td>6.0</td>\n",
       "      <td>26.0</td>\n",
       "      <td>1.0</td>\n",
       "      <td>1.0</td>\n",
       "      <td>0.0</td>\n",
       "      <td>1.0</td>\n",
       "      <td>0.0</td>\n",
       "      <td>0.5</td>\n",
       "      <td>2.5</td>\n",
       "    </tr>\n",
       "    <tr>\n",
       "      <th>4</th>\n",
       "      <td>73</td>\n",
       "      <td>0</td>\n",
       "      <td>12.0</td>\n",
       "      <td>18.0</td>\n",
       "      <td>1.0</td>\n",
       "      <td>1.0</td>\n",
       "      <td>1.0</td>\n",
       "      <td>1.0</td>\n",
       "      <td>0.0</td>\n",
       "      <td>0.5</td>\n",
       "      <td>2.5</td>\n",
       "    </tr>\n",
       "    <tr>\n",
       "      <th>...</th>\n",
       "      <td>...</td>\n",
       "      <td>...</td>\n",
       "      <td>...</td>\n",
       "      <td>...</td>\n",
       "      <td>...</td>\n",
       "      <td>...</td>\n",
       "      <td>...</td>\n",
       "      <td>...</td>\n",
       "      <td>...</td>\n",
       "      <td>...</td>\n",
       "      <td>...</td>\n",
       "    </tr>\n",
       "    <tr>\n",
       "      <th>2226</th>\n",
       "      <td>71</td>\n",
       "      <td>0</td>\n",
       "      <td>6.0</td>\n",
       "      <td>2.0</td>\n",
       "      <td>0.0</td>\n",
       "      <td>0.0</td>\n",
       "      <td>0.0</td>\n",
       "      <td>1.0</td>\n",
       "      <td>1.0</td>\n",
       "      <td>1.0</td>\n",
       "      <td>4.5</td>\n",
       "    </tr>\n",
       "    <tr>\n",
       "      <th>2227</th>\n",
       "      <td>70</td>\n",
       "      <td>0</td>\n",
       "      <td>6.0</td>\n",
       "      <td>14.0</td>\n",
       "      <td>0.0</td>\n",
       "      <td>0.0</td>\n",
       "      <td>0.0</td>\n",
       "      <td>1.0</td>\n",
       "      <td>1.0</td>\n",
       "      <td>1.0</td>\n",
       "      <td>4.5</td>\n",
       "    </tr>\n",
       "    <tr>\n",
       "      <th>2228</th>\n",
       "      <td>80</td>\n",
       "      <td>0</td>\n",
       "      <td>4.0</td>\n",
       "      <td>31.0</td>\n",
       "      <td>1.0</td>\n",
       "      <td>1.0</td>\n",
       "      <td>1.0</td>\n",
       "      <td>1.0</td>\n",
       "      <td>0.0</td>\n",
       "      <td>2.0</td>\n",
       "      <td>10.0</td>\n",
       "    </tr>\n",
       "    <tr>\n",
       "      <th>2229</th>\n",
       "      <td>48</td>\n",
       "      <td>0</td>\n",
       "      <td>9.0</td>\n",
       "      <td>32.0</td>\n",
       "      <td>1.0</td>\n",
       "      <td>1.0</td>\n",
       "      <td>1.0</td>\n",
       "      <td>1.0</td>\n",
       "      <td>1.0</td>\n",
       "      <td>0.5</td>\n",
       "      <td>2.0</td>\n",
       "    </tr>\n",
       "    <tr>\n",
       "      <th>2230</th>\n",
       "      <td>49</td>\n",
       "      <td>0</td>\n",
       "      <td>9.0</td>\n",
       "      <td>28.0</td>\n",
       "      <td>1.0</td>\n",
       "      <td>1.0</td>\n",
       "      <td>1.0</td>\n",
       "      <td>1.0</td>\n",
       "      <td>1.0</td>\n",
       "      <td>0.5</td>\n",
       "      <td>2.5</td>\n",
       "    </tr>\n",
       "  </tbody>\n",
       "</table>\n",
       "<p>2219 rows × 11 columns</p>\n",
       "</div>"
      ],
      "text/plain": [
       "      Age  sex  edu_years  Rey_CFT_copy_score  \\\n",
       "0      75    0       14.0                17.0   \n",
       "1      85    1       11.0                 2.0   \n",
       "2      80    0       12.0                36.0   \n",
       "3      75    0        6.0                26.0   \n",
       "4      73    0       12.0                18.0   \n",
       "...   ...  ...        ...                 ...   \n",
       "2226   71    0        6.0                 2.0   \n",
       "2227   70    0        6.0                14.0   \n",
       "2228   80    0        4.0                31.0   \n",
       "2229   48    0        9.0                32.0   \n",
       "2230   49    0        9.0                28.0   \n",
       "\n",
       "      Alternating_square_and_triangle  Luria_loop  K_MMSE_drawing  \\\n",
       "0                                 1.0         1.0             1.0   \n",
       "1                                 1.0         1.0             1.0   \n",
       "2                                 1.0         1.0             1.0   \n",
       "3                                 1.0         1.0             0.0   \n",
       "4                                 1.0         1.0             1.0   \n",
       "...                               ...         ...             ...   \n",
       "2226                              0.0         0.0             0.0   \n",
       "2227                              0.0         0.0             0.0   \n",
       "2228                              1.0         1.0             1.0   \n",
       "2229                              1.0         1.0             1.0   \n",
       "2230                              1.0         1.0             1.0   \n",
       "\n",
       "      K_TMT_E_A_success  K_TMT_E_B_success  CDR  Sum_of_boxes  \n",
       "0                   1.0                0.0  1.0           8.0  \n",
       "1                   1.0                0.0  1.0           6.0  \n",
       "2                   1.0                1.0  0.5           1.5  \n",
       "3                   1.0                0.0  0.5           2.5  \n",
       "4                   1.0                0.0  0.5           2.5  \n",
       "...                 ...                ...  ...           ...  \n",
       "2226                1.0                1.0  1.0           4.5  \n",
       "2227                1.0                1.0  1.0           4.5  \n",
       "2228                1.0                0.0  2.0          10.0  \n",
       "2229                1.0                1.0  0.5           2.0  \n",
       "2230                1.0                1.0  0.5           2.5  \n",
       "\n",
       "[2219 rows x 11 columns]"
      ]
     },
     "execution_count": 76,
     "metadata": {},
     "output_type": "execute_result"
    }
   ],
   "source": [
    "data_table"
   ]
  },
  {
   "cell_type": "code",
   "execution_count": 77,
   "metadata": {},
   "outputs": [
    {
     "name": "stdout",
     "output_type": "stream",
     "text": [
      "<class 'pandas.core.frame.DataFrame'>\n",
      "Int64Index: 2219 entries, 0 to 2230\n",
      "Data columns (total 11 columns):\n",
      " #   Column                           Non-Null Count  Dtype  \n",
      "---  ------                           --------------  -----  \n",
      " 0   Age                              2219 non-null   int64  \n",
      " 1   sex                              2219 non-null   int64  \n",
      " 2   edu_years                        2219 non-null   float64\n",
      " 3   Rey_CFT_copy_score               2219 non-null   float64\n",
      " 4   Alternating_square_and_triangle  2219 non-null   float64\n",
      " 5   Luria_loop                       2219 non-null   float64\n",
      " 6   K_MMSE_drawing                   2219 non-null   float64\n",
      " 7   K_TMT_E_A_success                2219 non-null   float64\n",
      " 8   K_TMT_E_B_success                2219 non-null   float64\n",
      " 9   CDR                              2212 non-null   float64\n",
      " 10  Sum_of_boxes                     2205 non-null   float64\n",
      "dtypes: float64(9), int64(2)\n",
      "memory usage: 288.0 KB\n"
     ]
    }
   ],
   "source": [
    "data_table.info()"
   ]
  },
  {
   "cell_type": "code",
   "execution_count": 79,
   "metadata": {},
   "outputs": [
    {
     "data": {
      "text/plain": [
       "Index(['Age', 'sex', 'edu_years', 'Rey_CFT_copy_score',\n",
       "       'Alternating_square_and_triangle', 'Luria_loop', 'K_MMSE_drawing',\n",
       "       'K_TMT_E_A_success', 'K_TMT_E_B_success', 'CDR', 'Sum_of_boxes'],\n",
       "      dtype='object')"
      ]
     },
     "execution_count": 79,
     "metadata": {},
     "output_type": "execute_result"
    }
   ],
   "source": [
    "data_table.columns"
   ]
  },
  {
   "cell_type": "code",
   "execution_count": 86,
   "metadata": {},
   "outputs": [
    {
     "data": {
      "text/plain": [
       "<matplotlib.axes._subplots.AxesSubplot at 0x20ff3c353d0>"
      ]
     },
     "execution_count": 86,
     "metadata": {},
     "output_type": "execute_result"
    },
    {
     "data": {
      "image/png": "[encoded data removed]",
      "text/plain": [
       "<Figure size 1296x864 with 9 Axes>"
      ]
     },
     "metadata": {
      "needs_background": "light"
     },
     "output_type": "display_data"
    }
   ],
   "source": [
    "import matplotlib as mpl\n",
    "import matplotlib.pyplot as pls\n",
    "\n",
    "figure, ((ax1,ax2,ax3), (ax4,ax5,ax6), (ax7, ax8, ax9)) = plt.subplots(nrows=3, ncols=3)\n",
    "figure.set_size_inches(18,12)\n",
    "\n",
    "sns.distplot(data_table['Age'], ax=ax1)\n",
    "sns.countplot(x=\"sex\", data=data_table, ax=ax2)\n",
    "sns.distplot(data_table['edu_years'], ax=ax3)\n",
    "sns.distplot(data_table['Rey_CFT_copy_score'], ax=ax4)\n",
    "sns.countplot(x=\"Alternating_square_and_triangle\", data=data_table, ax=ax5)\n",
    "sns.countplot(x=\"Luria_loop\", data=data_table, ax=ax6)\n",
    "sns.countplot(x=\"K_MMSE_drawing\", data=data_table, ax=ax7)\n",
    "sns.countplot(x=\"CDR\", data=data_table, ax=ax8)\n",
    "sns.countplot(x=\"Sum_of_boxes\", data=data_table, ax=ax9)"
   ]
  },
  {
   "cell_type": "markdown",
   "metadata": {},
   "source": [
    "## CDR 결측치 제거"
   ]
  },
  {
   "cell_type": "code",
   "execution_count": 84,
   "metadata": {},
   "outputs": [
    {
     "name": "stdout",
     "output_type": "stream",
     "text": [
      "<class 'pandas.core.frame.DataFrame'>\n",
      "Int64Index: 2205 entries, 0 to 2230\n",
      "Data columns (total 11 columns):\n",
      " #   Column                           Non-Null Count  Dtype  \n",
      "---  ------                           --------------  -----  \n",
      " 0   Age                              2205 non-null   int64  \n",
      " 1   sex                              2205 non-null   int64  \n",
      " 2   edu_years                        2205 non-null   float64\n",
      " 3   Rey_CFT_copy_score               2205 non-null   float64\n",
      " 4   Alternating_square_and_triangle  2205 non-null   float64\n",
      " 5   Luria_loop                       2205 non-null   float64\n",
      " 6   K_MMSE_drawing                   2205 non-null   float64\n",
      " 7   K_TMT_E_A_success                2205 non-null   float64\n",
      " 8   K_TMT_E_B_success                2205 non-null   float64\n",
      " 9   CDR                              2205 non-null   float64\n",
      " 10  Sum_of_boxes                     2205 non-null   float64\n",
      "dtypes: float64(9), int64(2)\n",
      "memory usage: 206.7 KB\n"
     ]
    }
   ],
   "source": [
    "data_table.dropna(subset=['CDR'], inplace=True)\n",
    "data_table.info()"
   ]
  },
  {
   "cell_type": "markdown",
   "metadata": {},
   "source": [
    "## Sum_of_boxes 결측치 제거"
   ]
  },
  {
   "cell_type": "code",
   "execution_count": 85,
   "metadata": {},
   "outputs": [
    {
     "name": "stdout",
     "output_type": "stream",
     "text": [
      "<class 'pandas.core.frame.DataFrame'>\n",
      "Int64Index: 2205 entries, 0 to 2230\n",
      "Data columns (total 11 columns):\n",
      " #   Column                           Non-Null Count  Dtype  \n",
      "---  ------                           --------------  -----  \n",
      " 0   Age                              2205 non-null   int64  \n",
      " 1   sex                              2205 non-null   int64  \n",
      " 2   edu_years                        2205 non-null   float64\n",
      " 3   Rey_CFT_copy_score               2205 non-null   float64\n",
      " 4   Alternating_square_and_triangle  2205 non-null   float64\n",
      " 5   Luria_loop                       2205 non-null   float64\n",
      " 6   K_MMSE_drawing                   2205 non-null   float64\n",
      " 7   K_TMT_E_A_success                2205 non-null   float64\n",
      " 8   K_TMT_E_B_success                2205 non-null   float64\n",
      " 9   CDR                              2205 non-null   float64\n",
      " 10  Sum_of_boxes                     2205 non-null   float64\n",
      "dtypes: float64(9), int64(2)\n",
      "memory usage: 206.7 KB\n"
     ]
    }
   ],
   "source": [
    "data_table.dropna(subset=['Sum_of_boxes'], inplace=True)\n",
    "data_table.info()"
   ]
  },
  {
   "cell_type": "code",
   "execution_count": 88,
   "metadata": {},
   "outputs": [],
   "source": [
    "data_table.to_csv(\"SNSB_1_figure_new.csv\", mode='w')"
   ]
  }
 ],
 "metadata": {
  "kernelspec": {
   "display_name": "Python 3",
   "language": "python",
   "name": "python3"
  },
  "language_info": {
   "codemirror_mode": {
    "name": "ipython",
    "version": 3
   },
   "file_extension": ".py",
   "mimetype": "text/x-python",
   "name": "python",
   "nbconvert_exporter": "python",
   "pygments_lexer": "ipython3",
   "version": "3.6.5"
  }
 },
 "nbformat": 4,
 "nbformat_minor": 4
}
