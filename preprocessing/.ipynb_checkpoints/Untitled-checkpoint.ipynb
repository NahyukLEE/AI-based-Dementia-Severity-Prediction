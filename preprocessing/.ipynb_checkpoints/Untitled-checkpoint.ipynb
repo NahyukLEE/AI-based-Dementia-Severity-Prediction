{
 "cells": [
  {
   "cell_type": "code",
   "execution_count": 1,
   "metadata": {},
   "outputs": [
    {
     "data": {
      "text/plain": [
       "'4.5.1'"
      ]
     },
     "execution_count": 1,
     "metadata": {},
     "output_type": "execute_result"
    }
   ],
   "source": [
    "import cv2\n",
    "cv2.__version__"
   ]
  },
  {
   "cell_type": "code",
   "execution_count": 2,
   "metadata": {},
   "outputs": [],
   "source": [
    "import numpy as np\n",
    "from skimage.filters import threshold_local # scikit-image\n",
    "import imutils\n",
    "from matplotlib import pyplot as plt\n",
    "import matplotlib.image as mpimg"
   ]
  },
  {
   "cell_type": "code",
   "execution_count": 3,
   "metadata": {},
   "outputs": [],
   "source": [
    "# read the input image\n",
    "image = cv2.imread(\"01472973_004.png\")\n",
    "\n",
    "# clone the original image\n",
    "original_image = image.copy()"
   ]
  },
  {
   "cell_type": "code",
   "execution_count": 4,
   "metadata": {},
   "outputs": [],
   "source": [
    "kernel = np.ones((3,3), np.uint8)\n",
    "opening_image = cv2.morphologyEx(original_image, cv2.MORPH_OPEN, kernel)\n",
    "denoised_image = cv2.fastNlMeansDenoising(original_image, None,40,7,21)\n",
    "erod_image = cv2.erode(denoised_image, kernel ,iterations=1)"
   ]
  },
  {
   "cell_type": "code",
   "execution_count": 6,
   "metadata": {},
   "outputs": [],
   "source": [
    "cv2.imshow(\"original_image\", original_image)\n",
    "cv2.imshow(\"denoised_image\", denoised_image)\n",
    "cv2.imshow(\"erod_image\", erod_image)\n",
    "\n",
    "#cv2.imshow(\"erod_image\", erod_image)\n",
    "\n",
    "#cv2.imshow(\"erod_image_blurred\", erod_image_blurred)\n",
    "#cv2.imshow(\"opening_erod_image_blurred\", opening_erod_image_blurred)\n",
    "\n",
    "cv2.waitKey(0)\n",
    "cv2.destroyAllWindows()"
   ]
  },
  {
   "cell_type": "code",
   "execution_count": 7,
   "metadata": {},
   "outputs": [],
   "source": [
    "image = cv2.imread(\"01472973_004.png\")\n",
    "\n",
    "# edge를 선명하게 함 \n",
    "dst0 = cv2.GaussianBlur(image, (5,5), 10,10) \n",
    "\n",
    "# 잡음을 제거한다. \n",
    "dst1 = cv2.medianBlur(dst0, ksize=11) \n",
    "\n",
    "# edge만 남기기 \n",
    "kernel = np.array([[1,1,1],[1,-8,1],[1,1,1]]) \n",
    "dst = cv2.filter2D(image, -1, kernel) \n",
    "\n",
    "dst2 = cv2.filter2D(dst1, -1, kernel)\n"
   ]
  },
  {
   "cell_type": "code",
   "execution_count": 8,
   "metadata": {},
   "outputs": [],
   "source": [
    "cv2.imshow(\"image\", image)\n",
    "cv2.imshow(\"dst0\", dst0)\n",
    "cv2.imshow(\"dst1\", dst1)\n",
    "cv2.imshow(\"dst2\", dst2)\n",
    "\n",
    "cv2.waitKey(0)\n",
    "cv2.destroyAllWindows()"
   ]
  },
  {
   "cell_type": "code",
   "execution_count": null,
   "metadata": {},
   "outputs": [],
   "source": []
  }
 ],
 "metadata": {
  "kernelspec": {
   "display_name": "Python 3",
   "language": "python",
   "name": "python3"
  },
  "language_info": {
   "codemirror_mode": {
    "name": "ipython",
    "version": 3
   },
   "file_extension": ".py",
   "mimetype": "text/x-python",
   "name": "python",
   "nbconvert_exporter": "python",
   "pygments_lexer": "ipython3",
   "version": "3.6.5"
  }
 },
 "nbformat": 4,
 "nbformat_minor": 4
}
