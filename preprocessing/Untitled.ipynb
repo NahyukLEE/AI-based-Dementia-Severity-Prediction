{
 "cells": [
  {
   "cell_type": "code",
   "execution_count": 1,
   "metadata": {},
   "outputs": [
    {
     "data": {
      "text/plain": [
       "'4.5.1'"
      ]
     },
     "execution_count": 1,
     "metadata": {},
     "output_type": "execute_result"
    }
   ],
   "source": [
    "import cv2\n",
    "cv2.__version__"
   ]
  },
  {
   "cell_type": "code",
   "execution_count": 2,
   "metadata": {},
   "outputs": [],
   "source": [
    "import numpy as np\n",
    "from skimage.filters import threshold_local # scikit-image\n",
    "import imutils\n",
    "from matplotlib import pyplot as plt\n",
    "import matplotlib.image as mpimg"
   ]
  },
  {
   "cell_type": "code",
   "execution_count": 17,
   "metadata": {},
   "outputs": [],
   "source": [
    "# read the input image\n",
    "image = cv2.imread(\"01472973_004.png\", 0)\n",
    "\n",
    "# clone the original image\n",
    "original_image = image.copy()"
   ]
  },
  {
   "cell_type": "code",
   "execution_count": 4,
   "metadata": {},
   "outputs": [],
   "source": [
    "kernel = np.ones((3,3), np.uint8)\n",
    "opening_image = cv2.morphologyEx(original_image, cv2.MORPH_OPEN, kernel)\n",
    "denoised_image = cv2.fastNlMeansDenoising(original_image, None,40,7,21)\n",
    "erod_image = cv2.erode(denoised_image, kernel ,iterations=1)"
   ]
  },
  {
   "cell_type": "code",
   "execution_count": 5,
   "metadata": {},
   "outputs": [],
   "source": [
    "cv2.imshow(\"original_image\", original_image)\n",
    "cv2.imshow(\"denoised_image\", denoised_image)\n",
    "cv2.imshow(\"erod_image\", erod_image)\n",
    "\n",
    "#cv2.imshow(\"erod_image\", erod_image)\n",
    "\n",
    "#cv2.imshow(\"erod_image_blurred\", erod_image_blurred)\n",
    "#cv2.imshow(\"opening_erod_image_blurred\", opening_erod_image_blurred)\n",
    "\n",
    "cv2.waitKey(0)\n",
    "cv2.destroyAllWindows()"
   ]
  },
  {
   "cell_type": "code",
   "execution_count": 57,
   "metadata": {},
   "outputs": [],
   "source": [
    "th = cv2.adaptiveThreshold(image, \n",
    "    255,  # maximum value assigned to pixel values exceeding the threshold\n",
    "    cv2.ADAPTIVE_THRESH_GAUSSIAN_C,  # gaussian weighted sum of neighborhood\n",
    "    cv2.THRESH_BINARY,  # thresholding type\n",
    "    201,  # block  size (5x5 window)\n",
    "    3)  # constant"
   ]
  },
  {
   "cell_type": "code",
   "execution_count": 58,
   "metadata": {},
   "outputs": [],
   "source": [
    "# read the input image\n",
    "image2 = cv2.imread(\"00112176_5.png\", 0)\n",
    "th2 = cv2.adaptiveThreshold(image2, \n",
    "    255,  # maximum value assigned to pixel values exceeding the threshold\n",
    "    cv2.ADAPTIVE_THRESH_GAUSSIAN_C,  # gaussian weighted sum of neighborhood\n",
    "    cv2.THRESH_BINARY,  # thresholding type\n",
    "    301,  # block  size (5x5 window)\n",
    "    3)  # constant"
   ]
  },
  {
   "cell_type": "code",
   "execution_count": 59,
   "metadata": {},
   "outputs": [],
   "source": [
    "cv2.imshow(\"image2\", image2)\n",
    "cv2.imshow(\"erod_image\", th2)\n",
    "cv2.waitKey(0)\n",
    "cv2.destroyAllWindows()"
   ]
  },
  {
   "cell_type": "code",
   "execution_count": null,
   "metadata": {},
   "outputs": [],
   "source": []
  }
 ],
 "metadata": {
  "kernelspec": {
   "display_name": "Python 3",
   "language": "python",
   "name": "python3"
  },
  "language_info": {
   "codemirror_mode": {
    "name": "ipython",
    "version": 3
   },
   "file_extension": ".py",
   "mimetype": "text/x-python",
   "name": "python",
   "nbconvert_exporter": "python",
   "pygments_lexer": "ipython3",
   "version": "3.6.5"
  }
 },
 "nbformat": 4,
 "nbformat_minor": 4
}
