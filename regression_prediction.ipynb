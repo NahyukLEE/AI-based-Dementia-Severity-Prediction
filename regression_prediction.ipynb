{
 "cells": [
  {
   "cell_type": "markdown",
   "metadata": {},
   "source": [
    "# 회귀분석 Notebook"
   ]
  },
  {
   "cell_type": "code",
   "execution_count": 58,
   "metadata": {},
   "outputs": [],
   "source": [
    "import pandas as pd\n",
    "import warnings\n",
    "import matplotlib as mpl\n",
    "import matplotlib.pyplot as plt\n",
    "import seaborn as sns\n",
    "import numpy as np\n",
    "warnings.filterwarnings('ignore')"
   ]
  },
  {
   "cell_type": "code",
   "execution_count": 59,
   "metadata": {},
   "outputs": [],
   "source": [
    "data_table = pd.read_csv('SNSB_1_figure_new.csv')"
   ]
  },
  {
   "cell_type": "code",
   "execution_count": 60,
   "metadata": {},
   "outputs": [
    {
     "name": "stdout",
     "output_type": "stream",
     "text": [
      "<class 'pandas.core.frame.DataFrame'>\n",
      "RangeIndex: 2205 entries, 0 to 2204\n",
      "Data columns (total 11 columns):\n",
      " #   Column                           Non-Null Count  Dtype  \n",
      "---  ------                           --------------  -----  \n",
      " 0   Age                              2205 non-null   int64  \n",
      " 1   sex                              2205 non-null   int64  \n",
      " 2   edu_years                        2205 non-null   float64\n",
      " 3   Rey_CFT_copy_score               2205 non-null   int64  \n",
      " 4   Alternating_square_and_triangle  2205 non-null   int64  \n",
      " 5   Luria_loop                       2205 non-null   int64  \n",
      " 6   K_MMSE_drawing                   2205 non-null   int64  \n",
      " 7   K_TMT_E_A_success                2205 non-null   int64  \n",
      " 8   K_TMT_E_B_success                2205 non-null   int64  \n",
      " 9   CDR                              2205 non-null   float64\n",
      " 10  Sum_of_boxes                     2205 non-null   float64\n",
      "dtypes: float64(3), int64(8)\n",
      "memory usage: 189.6 KB\n"
     ]
    }
   ],
   "source": [
    "data_table.info()"
   ]
  },
  {
   "cell_type": "code",
   "execution_count": 61,
   "metadata": {},
   "outputs": [],
   "source": [
    "data_table.drop(['CDR'], axis=1, inplace=True)"
   ]
  },
  {
   "cell_type": "code",
   "execution_count": 62,
   "metadata": {},
   "outputs": [
    {
     "data": {
      "text/html": [
       "<div>\n",
       "<style scoped>\n",
       "    .dataframe tbody tr th:only-of-type {\n",
       "        vertical-align: middle;\n",
       "    }\n",
       "\n",
       "    .dataframe tbody tr th {\n",
       "        vertical-align: top;\n",
       "    }\n",
       "\n",
       "    .dataframe thead th {\n",
       "        text-align: right;\n",
       "    }\n",
       "</style>\n",
       "<table border=\"1\" class=\"dataframe\">\n",
       "  <thead>\n",
       "    <tr style=\"text-align: right;\">\n",
       "      <th></th>\n",
       "      <th>Age</th>\n",
       "      <th>sex</th>\n",
       "      <th>edu_years</th>\n",
       "      <th>Rey_CFT_copy_score</th>\n",
       "      <th>Alternating_square_and_triangle</th>\n",
       "      <th>Luria_loop</th>\n",
       "      <th>K_MMSE_drawing</th>\n",
       "      <th>K_TMT_E_A_success</th>\n",
       "      <th>K_TMT_E_B_success</th>\n",
       "      <th>Sum_of_boxes</th>\n",
       "    </tr>\n",
       "  </thead>\n",
       "  <tbody>\n",
       "    <tr>\n",
       "      <th>2195</th>\n",
       "      <td>83</td>\n",
       "      <td>0</td>\n",
       "      <td>0.0</td>\n",
       "      <td>0</td>\n",
       "      <td>0</td>\n",
       "      <td>0</td>\n",
       "      <td>0</td>\n",
       "      <td>1</td>\n",
       "      <td>1</td>\n",
       "      <td>10.0</td>\n",
       "    </tr>\n",
       "    <tr>\n",
       "      <th>2196</th>\n",
       "      <td>57</td>\n",
       "      <td>1</td>\n",
       "      <td>16.0</td>\n",
       "      <td>35</td>\n",
       "      <td>1</td>\n",
       "      <td>1</td>\n",
       "      <td>1</td>\n",
       "      <td>1</td>\n",
       "      <td>1</td>\n",
       "      <td>1.5</td>\n",
       "    </tr>\n",
       "    <tr>\n",
       "      <th>2197</th>\n",
       "      <td>75</td>\n",
       "      <td>1</td>\n",
       "      <td>12.0</td>\n",
       "      <td>7</td>\n",
       "      <td>0</td>\n",
       "      <td>1</td>\n",
       "      <td>0</td>\n",
       "      <td>1</td>\n",
       "      <td>0</td>\n",
       "      <td>6.0</td>\n",
       "    </tr>\n",
       "    <tr>\n",
       "      <th>2198</th>\n",
       "      <td>74</td>\n",
       "      <td>0</td>\n",
       "      <td>9.0</td>\n",
       "      <td>29</td>\n",
       "      <td>1</td>\n",
       "      <td>1</td>\n",
       "      <td>1</td>\n",
       "      <td>1</td>\n",
       "      <td>1</td>\n",
       "      <td>1.5</td>\n",
       "    </tr>\n",
       "    <tr>\n",
       "      <th>2199</th>\n",
       "      <td>60</td>\n",
       "      <td>0</td>\n",
       "      <td>6.0</td>\n",
       "      <td>31</td>\n",
       "      <td>1</td>\n",
       "      <td>1</td>\n",
       "      <td>1</td>\n",
       "      <td>1</td>\n",
       "      <td>1</td>\n",
       "      <td>1.5</td>\n",
       "    </tr>\n",
       "    <tr>\n",
       "      <th>2200</th>\n",
       "      <td>71</td>\n",
       "      <td>0</td>\n",
       "      <td>6.0</td>\n",
       "      <td>2</td>\n",
       "      <td>0</td>\n",
       "      <td>0</td>\n",
       "      <td>0</td>\n",
       "      <td>1</td>\n",
       "      <td>1</td>\n",
       "      <td>4.5</td>\n",
       "    </tr>\n",
       "    <tr>\n",
       "      <th>2201</th>\n",
       "      <td>70</td>\n",
       "      <td>0</td>\n",
       "      <td>6.0</td>\n",
       "      <td>14</td>\n",
       "      <td>0</td>\n",
       "      <td>0</td>\n",
       "      <td>0</td>\n",
       "      <td>1</td>\n",
       "      <td>1</td>\n",
       "      <td>4.5</td>\n",
       "    </tr>\n",
       "    <tr>\n",
       "      <th>2202</th>\n",
       "      <td>80</td>\n",
       "      <td>0</td>\n",
       "      <td>4.0</td>\n",
       "      <td>31</td>\n",
       "      <td>1</td>\n",
       "      <td>1</td>\n",
       "      <td>1</td>\n",
       "      <td>1</td>\n",
       "      <td>0</td>\n",
       "      <td>10.0</td>\n",
       "    </tr>\n",
       "    <tr>\n",
       "      <th>2203</th>\n",
       "      <td>48</td>\n",
       "      <td>0</td>\n",
       "      <td>9.0</td>\n",
       "      <td>32</td>\n",
       "      <td>1</td>\n",
       "      <td>1</td>\n",
       "      <td>1</td>\n",
       "      <td>1</td>\n",
       "      <td>1</td>\n",
       "      <td>2.0</td>\n",
       "    </tr>\n",
       "    <tr>\n",
       "      <th>2204</th>\n",
       "      <td>49</td>\n",
       "      <td>0</td>\n",
       "      <td>9.0</td>\n",
       "      <td>28</td>\n",
       "      <td>1</td>\n",
       "      <td>1</td>\n",
       "      <td>1</td>\n",
       "      <td>1</td>\n",
       "      <td>1</td>\n",
       "      <td>2.5</td>\n",
       "    </tr>\n",
       "  </tbody>\n",
       "</table>\n",
       "</div>"
      ],
      "text/plain": [
       "      Age  sex  edu_years  Rey_CFT_copy_score  \\\n",
       "2195   83    0        0.0                   0   \n",
       "2196   57    1       16.0                  35   \n",
       "2197   75    1       12.0                   7   \n",
       "2198   74    0        9.0                  29   \n",
       "2199   60    0        6.0                  31   \n",
       "2200   71    0        6.0                   2   \n",
       "2201   70    0        6.0                  14   \n",
       "2202   80    0        4.0                  31   \n",
       "2203   48    0        9.0                  32   \n",
       "2204   49    0        9.0                  28   \n",
       "\n",
       "      Alternating_square_and_triangle  Luria_loop  K_MMSE_drawing  \\\n",
       "2195                                0           0               0   \n",
       "2196                                1           1               1   \n",
       "2197                                0           1               0   \n",
       "2198                                1           1               1   \n",
       "2199                                1           1               1   \n",
       "2200                                0           0               0   \n",
       "2201                                0           0               0   \n",
       "2202                                1           1               1   \n",
       "2203                                1           1               1   \n",
       "2204                                1           1               1   \n",
       "\n",
       "      K_TMT_E_A_success  K_TMT_E_B_success  Sum_of_boxes  \n",
       "2195                  1                  1          10.0  \n",
       "2196                  1                  1           1.5  \n",
       "2197                  1                  0           6.0  \n",
       "2198                  1                  1           1.5  \n",
       "2199                  1                  1           1.5  \n",
       "2200                  1                  1           4.5  \n",
       "2201                  1                  1           4.5  \n",
       "2202                  1                  0          10.0  \n",
       "2203                  1                  1           2.0  \n",
       "2204                  1                  1           2.5  "
      ]
     },
     "execution_count": 62,
     "metadata": {},
     "output_type": "execute_result"
    }
   ],
   "source": [
    "data_table.tail(10)"
   ]
  },
  {
   "cell_type": "code",
   "execution_count": 63,
   "metadata": {},
   "outputs": [],
   "source": [
    "from sklearn.model_selection import train_test_split\n",
    "from sklearn.linear_model import LinearRegression\n",
    "from sklearn.metrics import mean_squared_error, r2_score\n",
    "\n",
    "y_target = data_table['Sum_of_boxes']\n",
    "X_data = data_table.drop(['Sum_of_boxes'], axis=1, inplace=False)\n",
    "\n",
    "X_train, X_test, y_train, y_test = train_test_split(X_data, y_target, test_size=0.3)"
   ]
  },
  {
   "cell_type": "markdown",
   "metadata": {},
   "source": [
    "## 릿지\n",
    "\n",
    "- Ridge 회귀는 선형 회귀에 L2 Regularization을 추가한 모형이다.  \n",
    "- Ridge 회귀는 L2 Regularization을 적용하는데, L2 Regularization은 상대적으로 큰 회귀 계수 값의 예측 영향도를 감소 시키기 위해서 회귀 계수값을 더 작게 만드는 Regularization 모형이다."
   ]
  },
  {
   "cell_type": "code",
   "execution_count": 57,
   "metadata": {},
   "outputs": [
    {
     "name": "stdout",
     "output_type": "stream",
     "text": [
      "평균 RMSE : 1.73677\n",
      "평균 RMSE : 1.73670\n",
      "평균 RMSE : 1.73620\n",
      "평균 RMSE : 1.73578\n",
      "평균 RMSE : 1.73778\n"
     ]
    }
   ],
   "source": [
    "from sklearn.linear_model import Ridge\n",
    "from sklearn.model_selection import cross_val_score\n",
    "\n",
    "alphas = [0, 1, 10, 100, 200]\n",
    "\n",
    "for alpha in alphas :\n",
    "    ridge = Ridge(alpha = alpha)\n",
    "    \n",
    "    # cross_val_score를 이용해 5 폴드의 평균 RMSE를 계산\n",
    "    neg_mse_scores = cross_val_score(ridge, X_data, y_target, scoring=\"neg_mean_squared_error\", cv = 100)\n",
    "    avg_rmse = np.mean(np.sqrt(-1 * neg_mse_scores))\n",
    "    print(\"평균 RMSE : {0:.5f}\".format(avg_rmse))"
   ]
  },
  {
   "cell_type": "code",
   "execution_count": 8,
   "metadata": {},
   "outputs": [
    {
     "data": {
      "image/png": "[encoded data removed]",
      "text/plain": [
       "<Figure size 1296x432 with 5 Axes>"
      ]
     },
     "metadata": {
      "needs_background": "light"
     },
     "output_type": "display_data"
    }
   ],
   "source": [
    "#각 alpha에 따른 회귀 계수 시각화\n",
    "fit, axs = plt.subplots(figsize=(18,6), nrows=1, ncols=5)\n",
    "coeff_df = pd.DataFrame() # 회귀 계수 값 저장을 위한 DataFrame 생성\n",
    "\n",
    "# alphas 리스트 값을 차례로 입력해 회귀 계수 값 시각화 및 데이터 저장, pos는 axis의 위치 지정\n",
    "for pos, alpha in enumerate(alphas):\n",
    "    ridge = Ridge(alpha=alpha)\n",
    "    ridge.fit(X_data, y_target)\n",
    "    \n",
    "    # alpha에 따른 피처별로 회귀 계수를 Series로 변환하고 이를 DataFrame의 칼럼으로 추가\n",
    "    coeff = pd.Series(data=ridge.coef_, index=X_data.columns)\n",
    "    colname='alpha:'+str(alpha)\n",
    "    coeff_df[colname]=coeff\n",
    "    \n",
    "    # 막대 그래프로 각 alpha 값에서의 회귀 계수를 시각화. 회귀 계수값이 높은 순으로 표현\n",
    "    coeff = coeff.sort_values(ascending=False)\n",
    "    axs[pos].set_title(colname)\n",
    "    axs[pos].set_xlim(-3,6)\n",
    "    sns.barplot(x=coeff.values, y=coeff.index, ax=axs[pos])\n",
    "\n",
    "plt.show()"
   ]
  },
  {
   "cell_type": "code",
   "execution_count": 9,
   "metadata": {},
   "outputs": [
    {
     "data": {
      "text/html": [
       "<div>\n",
       "<style scoped>\n",
       "    .dataframe tbody tr th:only-of-type {\n",
       "        vertical-align: middle;\n",
       "    }\n",
       "\n",
       "    .dataframe tbody tr th {\n",
       "        vertical-align: top;\n",
       "    }\n",
       "\n",
       "    .dataframe thead th {\n",
       "        text-align: right;\n",
       "    }\n",
       "</style>\n",
       "<table border=\"1\" class=\"dataframe\">\n",
       "  <thead>\n",
       "    <tr style=\"text-align: right;\">\n",
       "      <th></th>\n",
       "      <th>alpha:0</th>\n",
       "      <th>alpha:1</th>\n",
       "      <th>alpha:10</th>\n",
       "      <th>alpha:100</th>\n",
       "      <th>alpha:200</th>\n",
       "    </tr>\n",
       "  </thead>\n",
       "  <tbody>\n",
       "    <tr>\n",
       "      <th>sex</th>\n",
       "      <td>0.264874</td>\n",
       "      <td>0.264156</td>\n",
       "      <td>0.257975</td>\n",
       "      <td>0.211976</td>\n",
       "      <td>0.178200</td>\n",
       "    </tr>\n",
       "    <tr>\n",
       "      <th>edu_years</th>\n",
       "      <td>0.034574</td>\n",
       "      <td>0.034566</td>\n",
       "      <td>0.034492</td>\n",
       "      <td>0.033717</td>\n",
       "      <td>0.033069</td>\n",
       "    </tr>\n",
       "    <tr>\n",
       "      <th>Age</th>\n",
       "      <td>0.020783</td>\n",
       "      <td>0.020787</td>\n",
       "      <td>0.020829</td>\n",
       "      <td>0.021281</td>\n",
       "      <td>0.021668</td>\n",
       "    </tr>\n",
       "    <tr>\n",
       "      <th>Rey_CFT_copy_score</th>\n",
       "      <td>-0.100785</td>\n",
       "      <td>-0.100899</td>\n",
       "      <td>-0.101891</td>\n",
       "      <td>-0.109248</td>\n",
       "      <td>-0.114393</td>\n",
       "    </tr>\n",
       "    <tr>\n",
       "      <th>K_MMSE_drawing</th>\n",
       "      <td>-0.305725</td>\n",
       "      <td>-0.305133</td>\n",
       "      <td>-0.299896</td>\n",
       "      <td>-0.254600</td>\n",
       "      <td>-0.216570</td>\n",
       "    </tr>\n",
       "    <tr>\n",
       "      <th>Luria_loop</th>\n",
       "      <td>-0.373083</td>\n",
       "      <td>-0.372213</td>\n",
       "      <td>-0.364258</td>\n",
       "      <td>-0.293209</td>\n",
       "      <td>-0.238976</td>\n",
       "    </tr>\n",
       "    <tr>\n",
       "      <th>Alternating_square_and_triangle</th>\n",
       "      <td>-0.409440</td>\n",
       "      <td>-0.408333</td>\n",
       "      <td>-0.398206</td>\n",
       "      <td>-0.310657</td>\n",
       "      <td>-0.247907</td>\n",
       "    </tr>\n",
       "    <tr>\n",
       "      <th>K_TMT_E_A_success</th>\n",
       "      <td>-0.477361</td>\n",
       "      <td>-0.470426</td>\n",
       "      <td>-0.417119</td>\n",
       "      <td>-0.211405</td>\n",
       "      <td>-0.143909</td>\n",
       "    </tr>\n",
       "    <tr>\n",
       "      <th>K_TMT_E_B_success</th>\n",
       "      <td>-0.517611</td>\n",
       "      <td>-0.516679</td>\n",
       "      <td>-0.507834</td>\n",
       "      <td>-0.419341</td>\n",
       "      <td>-0.347261</td>\n",
       "    </tr>\n",
       "  </tbody>\n",
       "</table>\n",
       "</div>"
      ],
      "text/plain": [
       "                                  alpha:0   alpha:1  alpha:10  alpha:100  \\\n",
       "sex                              0.264874  0.264156  0.257975   0.211976   \n",
       "edu_years                        0.034574  0.034566  0.034492   0.033717   \n",
       "Age                              0.020783  0.020787  0.020829   0.021281   \n",
       "Rey_CFT_copy_score              -0.100785 -0.100899 -0.101891  -0.109248   \n",
       "K_MMSE_drawing                  -0.305725 -0.305133 -0.299896  -0.254600   \n",
       "Luria_loop                      -0.373083 -0.372213 -0.364258  -0.293209   \n",
       "Alternating_square_and_triangle -0.409440 -0.408333 -0.398206  -0.310657   \n",
       "K_TMT_E_A_success               -0.477361 -0.470426 -0.417119  -0.211405   \n",
       "K_TMT_E_B_success               -0.517611 -0.516679 -0.507834  -0.419341   \n",
       "\n",
       "                                 alpha:200  \n",
       "sex                               0.178200  \n",
       "edu_years                         0.033069  \n",
       "Age                               0.021668  \n",
       "Rey_CFT_copy_score               -0.114393  \n",
       "K_MMSE_drawing                   -0.216570  \n",
       "Luria_loop                       -0.238976  \n",
       "Alternating_square_and_triangle  -0.247907  \n",
       "K_TMT_E_A_success                -0.143909  \n",
       "K_TMT_E_B_success                -0.347261  "
      ]
     },
     "execution_count": 9,
     "metadata": {},
     "output_type": "execute_result"
    }
   ],
   "source": [
    "ridge_alphas = [0 , 0.1 , 1 , 10 , 100]\n",
    "sort_column = 'alpha:'+str(ridge_alphas[0])\n",
    "coeff_df.sort_values(by=sort_column, ascending=False)"
   ]
  },
  {
   "cell_type": "markdown",
   "metadata": {},
   "source": [
    "## 라쏘\n",
    "- Lasso 회귀는 선형 회귀에 L1 Regularization을 적용한 방식이다.  \n",
    "- L2 Regularization이 회귀 계수 값의 크기를 줄이는 데 반해, L1 Regularization은 예측 영향력이 작은 피처의 회귀계수를 0으로 만들어 회귀 예측 시 피처가 선택되지 않게 하는 것이다.  \n",
    "- 이러한 특성 때문에 L1 Regularization은 피처 선택 기능으로도 불린다."
   ]
  },
  {
   "cell_type": "code",
   "execution_count": 10,
   "metadata": {},
   "outputs": [],
   "source": [
    "from sklearn.linear_model import Lasso, ElasticNet\n",
    "\n",
    "# alpha값에 따른 회귀 모델의 폴드 평균 RMSE를 출력하고 회귀 계수값들을 DataFrame으로 반환 \n",
    "def get_linear_reg_eval(model_name, params=None, X_data_n=None, y_target_n=None, verbose=True):\n",
    "    coeff_df = pd.DataFrame()\n",
    "    if verbose : print('####### ', model_name , '#######')\n",
    "    for param in params:\n",
    "        if model_name =='Ridge': model = Ridge(alpha=param)\n",
    "        elif model_name =='Lasso': model = Lasso(alpha=param)\n",
    "        elif model_name =='ElasticNet': model = ElasticNet(alpha=param, l1_ratio=0.7)\n",
    "        neg_mse_scores = cross_val_score(model, X_data_n, \n",
    "                                             y_target_n, scoring=\"neg_mean_squared_error\", cv = 5)\n",
    "        avg_rmse = np.mean(np.sqrt(-1 * neg_mse_scores))\n",
    "        print('alpha {0}일 때 5 폴드 세트의 평균 RMSE: {1:.3f} '.format(param, avg_rmse))\n",
    "        # cross_val_score는 evaluation metric만 반환하므로 모델을 다시 학습하여 회귀 계수 추출\n",
    "        model.fit(X_data , y_target)\n",
    "        # alpha에 따른 피처별 회귀 계수를 Series로 변환하고 이를 DataFrame의 컬럼으로 추가. \n",
    "        coeff = pd.Series(data=model.coef_ , index=X_data.columns )\n",
    "        colname='alpha:'+str(param)\n",
    "        coeff_df[colname] = coeff\n",
    "    return coeff_df\n",
    "# end of get_linear_regre_eval"
   ]
  },
  {
   "cell_type": "code",
   "execution_count": 11,
   "metadata": {},
   "outputs": [
    {
     "name": "stdout",
     "output_type": "stream",
     "text": [
      "#######  Lasso #######\n",
      "alpha 0.01일 때 5 폴드 세트의 평균 RMSE: 1.829 \n",
      "alpha 0.02일 때 5 폴드 세트의 평균 RMSE: 1.831 \n",
      "alpha 0.03일 때 5 폴드 세트의 평균 RMSE: 1.836 \n",
      "alpha 0.07일 때 5 폴드 세트의 평균 RMSE: 1.853 \n",
      "alpha 0.1일 때 5 폴드 세트의 평균 RMSE: 1.854 \n",
      "alpha 0.5일 때 5 폴드 세트의 평균 RMSE: 1.855 \n",
      "alpha 1일 때 5 폴드 세트의 평균 RMSE: 1.857 \n",
      "alpha 3일 때 5 폴드 세트의 평균 RMSE: 1.883 \n"
     ]
    }
   ],
   "source": [
    "# 라쏘에 사용될 alpha 파라미터의 값들을 정의하고 get_linear_reg_eval() 함수 호출\n",
    "lasso_alphas = [0.01, 0.02, 0.03, 0.07, 0.1, 0.5, 1, 3]\n",
    "coeff_lasso_df =get_linear_reg_eval('Lasso', params=lasso_alphas, X_data_n=X_data, y_target_n=y_target)"
   ]
  },
  {
   "cell_type": "code",
   "execution_count": 12,
   "metadata": {},
   "outputs": [
    {
     "data": {
      "text/html": [
       "<div>\n",
       "<style scoped>\n",
       "    .dataframe tbody tr th:only-of-type {\n",
       "        vertical-align: middle;\n",
       "    }\n",
       "\n",
       "    .dataframe tbody tr th {\n",
       "        vertical-align: top;\n",
       "    }\n",
       "\n",
       "    .dataframe thead th {\n",
       "        text-align: right;\n",
       "    }\n",
       "</style>\n",
       "<table border=\"1\" class=\"dataframe\">\n",
       "  <thead>\n",
       "    <tr style=\"text-align: right;\">\n",
       "      <th></th>\n",
       "      <th>alpha:0.01</th>\n",
       "      <th>alpha:0.02</th>\n",
       "      <th>alpha:0.03</th>\n",
       "      <th>alpha:0.07</th>\n",
       "      <th>alpha:0.1</th>\n",
       "      <th>alpha:0.5</th>\n",
       "      <th>alpha:1</th>\n",
       "      <th>alpha:3</th>\n",
       "    </tr>\n",
       "  </thead>\n",
       "  <tbody>\n",
       "    <tr>\n",
       "      <th>sex</th>\n",
       "      <td>0.211980</td>\n",
       "      <td>0.161576</td>\n",
       "      <td>0.113483</td>\n",
       "      <td>0.000000</td>\n",
       "      <td>0.000000</td>\n",
       "      <td>0.000000</td>\n",
       "      <td>0.000000</td>\n",
       "      <td>0.000000</td>\n",
       "    </tr>\n",
       "    <tr>\n",
       "      <th>edu_years</th>\n",
       "      <td>0.033901</td>\n",
       "      <td>0.033118</td>\n",
       "      <td>0.032225</td>\n",
       "      <td>0.027802</td>\n",
       "      <td>0.025426</td>\n",
       "      <td>0.001063</td>\n",
       "      <td>0.000000</td>\n",
       "      <td>-0.000000</td>\n",
       "    </tr>\n",
       "    <tr>\n",
       "      <th>Age</th>\n",
       "      <td>0.020719</td>\n",
       "      <td>0.020728</td>\n",
       "      <td>0.020804</td>\n",
       "      <td>0.021615</td>\n",
       "      <td>0.022517</td>\n",
       "      <td>0.017946</td>\n",
       "      <td>0.013956</td>\n",
       "      <td>0.000000</td>\n",
       "    </tr>\n",
       "    <tr>\n",
       "      <th>Rey_CFT_copy_score</th>\n",
       "      <td>-0.106992</td>\n",
       "      <td>-0.112840</td>\n",
       "      <td>-0.118366</td>\n",
       "      <td>-0.134651</td>\n",
       "      <td>-0.135789</td>\n",
       "      <td>-0.127561</td>\n",
       "      <td>-0.123593</td>\n",
       "      <td>-0.108107</td>\n",
       "    </tr>\n",
       "    <tr>\n",
       "      <th>K_TMT_E_A_success</th>\n",
       "      <td>-0.153667</td>\n",
       "      <td>-0.000000</td>\n",
       "      <td>-0.000000</td>\n",
       "      <td>-0.000000</td>\n",
       "      <td>-0.000000</td>\n",
       "      <td>-0.000000</td>\n",
       "      <td>-0.000000</td>\n",
       "      <td>-0.000000</td>\n",
       "    </tr>\n",
       "    <tr>\n",
       "      <th>K_MMSE_drawing</th>\n",
       "      <td>-0.255785</td>\n",
       "      <td>-0.206065</td>\n",
       "      <td>-0.156503</td>\n",
       "      <td>-0.000000</td>\n",
       "      <td>-0.000000</td>\n",
       "      <td>-0.000000</td>\n",
       "      <td>-0.000000</td>\n",
       "      <td>-0.000000</td>\n",
       "    </tr>\n",
       "    <tr>\n",
       "      <th>Luria_loop</th>\n",
       "      <td>-0.317924</td>\n",
       "      <td>-0.256136</td>\n",
       "      <td>-0.188298</td>\n",
       "      <td>-0.000000</td>\n",
       "      <td>-0.000000</td>\n",
       "      <td>-0.000000</td>\n",
       "      <td>-0.000000</td>\n",
       "      <td>-0.000000</td>\n",
       "    </tr>\n",
       "    <tr>\n",
       "      <th>Alternating_square_and_triangle</th>\n",
       "      <td>-0.351856</td>\n",
       "      <td>-0.283938</td>\n",
       "      <td>-0.206640</td>\n",
       "      <td>-0.000000</td>\n",
       "      <td>-0.000000</td>\n",
       "      <td>-0.000000</td>\n",
       "      <td>-0.000000</td>\n",
       "      <td>-0.000000</td>\n",
       "    </tr>\n",
       "    <tr>\n",
       "      <th>K_TMT_E_B_success</th>\n",
       "      <td>-0.481580</td>\n",
       "      <td>-0.432235</td>\n",
       "      <td>-0.370843</td>\n",
       "      <td>-0.128009</td>\n",
       "      <td>-0.000000</td>\n",
       "      <td>-0.000000</td>\n",
       "      <td>-0.000000</td>\n",
       "      <td>-0.000000</td>\n",
       "    </tr>\n",
       "  </tbody>\n",
       "</table>\n",
       "</div>"
      ],
      "text/plain": [
       "                                 alpha:0.01  alpha:0.02  alpha:0.03  \\\n",
       "sex                                0.211980    0.161576    0.113483   \n",
       "edu_years                          0.033901    0.033118    0.032225   \n",
       "Age                                0.020719    0.020728    0.020804   \n",
       "Rey_CFT_copy_score                -0.106992   -0.112840   -0.118366   \n",
       "K_TMT_E_A_success                 -0.153667   -0.000000   -0.000000   \n",
       "K_MMSE_drawing                    -0.255785   -0.206065   -0.156503   \n",
       "Luria_loop                        -0.317924   -0.256136   -0.188298   \n",
       "Alternating_square_and_triangle   -0.351856   -0.283938   -0.206640   \n",
       "K_TMT_E_B_success                 -0.481580   -0.432235   -0.370843   \n",
       "\n",
       "                                 alpha:0.07  alpha:0.1  alpha:0.5   alpha:1  \\\n",
       "sex                                0.000000   0.000000   0.000000  0.000000   \n",
       "edu_years                          0.027802   0.025426   0.001063  0.000000   \n",
       "Age                                0.021615   0.022517   0.017946  0.013956   \n",
       "Rey_CFT_copy_score                -0.134651  -0.135789  -0.127561 -0.123593   \n",
       "K_TMT_E_A_success                 -0.000000  -0.000000  -0.000000 -0.000000   \n",
       "K_MMSE_drawing                    -0.000000  -0.000000  -0.000000 -0.000000   \n",
       "Luria_loop                        -0.000000  -0.000000  -0.000000 -0.000000   \n",
       "Alternating_square_and_triangle   -0.000000  -0.000000  -0.000000 -0.000000   \n",
       "K_TMT_E_B_success                 -0.128009  -0.000000  -0.000000 -0.000000   \n",
       "\n",
       "                                  alpha:3  \n",
       "sex                              0.000000  \n",
       "edu_years                       -0.000000  \n",
       "Age                              0.000000  \n",
       "Rey_CFT_copy_score              -0.108107  \n",
       "K_TMT_E_A_success               -0.000000  \n",
       "K_MMSE_drawing                  -0.000000  \n",
       "Luria_loop                      -0.000000  \n",
       "Alternating_square_and_triangle -0.000000  \n",
       "K_TMT_E_B_success               -0.000000  "
      ]
     },
     "execution_count": 12,
     "metadata": {},
     "output_type": "execute_result"
    }
   ],
   "source": [
    "# 반환된 coeff_lasso_df를 첫번째 컬럼순으로 내림차순 정렬하여 회귀계수 DataFrame출력\n",
    "sort_column = 'alpha:'+str(lasso_alphas[0])\n",
    "coeff_lasso_df.sort_values(by=sort_column, ascending=False)"
   ]
  },
  {
   "cell_type": "markdown",
   "metadata": {},
   "source": [
    "## 엘라스틱넷\n",
    "- L2, L1 Regularization을 함께 결합한 모형이다. \n",
    "- 주로 피처가 많은 데이터 세트에서 적용되며, L1 Regularization으로 피처의 개수를 줄임과 동시에 L2 Regularization으로 계수의 값의 크기를 조정한다."
   ]
  },
  {
   "cell_type": "code",
   "execution_count": 13,
   "metadata": {},
   "outputs": [
    {
     "name": "stdout",
     "output_type": "stream",
     "text": [
      "#######  ElasticNet #######\n",
      "alpha 0.01일 때 5 폴드 세트의 평균 RMSE: 1.828 \n",
      "alpha 0.07일 때 5 폴드 세트의 평균 RMSE: 1.846 \n",
      "alpha 0.1일 때 5 폴드 세트의 평균 RMSE: 1.853 \n",
      "alpha 0.5일 때 5 폴드 세트의 평균 RMSE: 1.854 \n",
      "alpha 1일 때 5 폴드 세트의 평균 RMSE: 1.856 \n",
      "alpha 3일 때 5 폴드 세트의 평균 RMSE: 1.871 \n"
     ]
    }
   ],
   "source": [
    "# 엘라스틱넷에 사용될 alpha 파라미터의 값들을 정의하고 get_linear_reg_eval() 함수 호출\n",
    "# l1_ratio는 0.7로 고정\n",
    "elastic_alphas = [0.01, 0.07, 0.1, 0.5, 1, 3]\n",
    "coeff_elastic_df =get_linear_reg_eval('ElasticNet', params=elastic_alphas,\n",
    "                                      X_data_n=X_data, y_target_n=y_target)"
   ]
  },
  {
   "cell_type": "code",
   "execution_count": 14,
   "metadata": {},
   "outputs": [
    {
     "data": {
      "text/html": [
       "<div>\n",
       "<style scoped>\n",
       "    .dataframe tbody tr th:only-of-type {\n",
       "        vertical-align: middle;\n",
       "    }\n",
       "\n",
       "    .dataframe tbody tr th {\n",
       "        vertical-align: top;\n",
       "    }\n",
       "\n",
       "    .dataframe thead th {\n",
       "        text-align: right;\n",
       "    }\n",
       "</style>\n",
       "<table border=\"1\" class=\"dataframe\">\n",
       "  <thead>\n",
       "    <tr style=\"text-align: right;\">\n",
       "      <th></th>\n",
       "      <th>alpha:0.01</th>\n",
       "      <th>alpha:0.07</th>\n",
       "      <th>alpha:0.1</th>\n",
       "      <th>alpha:0.5</th>\n",
       "      <th>alpha:1</th>\n",
       "      <th>alpha:3</th>\n",
       "    </tr>\n",
       "  </thead>\n",
       "  <tbody>\n",
       "    <tr>\n",
       "      <th>sex</th>\n",
       "      <td>0.224114</td>\n",
       "      <td>0.020001</td>\n",
       "      <td>0.000000</td>\n",
       "      <td>0.000000</td>\n",
       "      <td>0.000000</td>\n",
       "      <td>0.000000</td>\n",
       "    </tr>\n",
       "    <tr>\n",
       "      <th>edu_years</th>\n",
       "      <td>0.034035</td>\n",
       "      <td>0.030252</td>\n",
       "      <td>0.027635</td>\n",
       "      <td>0.009919</td>\n",
       "      <td>0.000000</td>\n",
       "      <td>0.000000</td>\n",
       "    </tr>\n",
       "    <tr>\n",
       "      <th>Age</th>\n",
       "      <td>0.020778</td>\n",
       "      <td>0.021188</td>\n",
       "      <td>0.021807</td>\n",
       "      <td>0.019677</td>\n",
       "      <td>0.016385</td>\n",
       "      <td>0.005602</td>\n",
       "    </tr>\n",
       "    <tr>\n",
       "      <th>Rey_CFT_copy_score</th>\n",
       "      <td>-0.105760</td>\n",
       "      <td>-0.129739</td>\n",
       "      <td>-0.134860</td>\n",
       "      <td>-0.130384</td>\n",
       "      <td>-0.125444</td>\n",
       "      <td>-0.114268</td>\n",
       "    </tr>\n",
       "    <tr>\n",
       "      <th>K_TMT_E_A_success</th>\n",
       "      <td>-0.231888</td>\n",
       "      <td>-0.000000</td>\n",
       "      <td>-0.000000</td>\n",
       "      <td>-0.000000</td>\n",
       "      <td>-0.000000</td>\n",
       "      <td>-0.000000</td>\n",
       "    </tr>\n",
       "    <tr>\n",
       "      <th>K_MMSE_drawing</th>\n",
       "      <td>-0.267403</td>\n",
       "      <td>-0.057561</td>\n",
       "      <td>-0.000000</td>\n",
       "      <td>-0.000000</td>\n",
       "      <td>-0.000000</td>\n",
       "      <td>-0.000000</td>\n",
       "    </tr>\n",
       "    <tr>\n",
       "      <th>Luria_loop</th>\n",
       "      <td>-0.328548</td>\n",
       "      <td>-0.052424</td>\n",
       "      <td>-0.000000</td>\n",
       "      <td>-0.000000</td>\n",
       "      <td>-0.000000</td>\n",
       "      <td>-0.000000</td>\n",
       "    </tr>\n",
       "    <tr>\n",
       "      <th>Alternating_square_and_triangle</th>\n",
       "      <td>-0.361294</td>\n",
       "      <td>-0.050550</td>\n",
       "      <td>-0.000000</td>\n",
       "      <td>-0.000000</td>\n",
       "      <td>-0.000000</td>\n",
       "      <td>-0.000000</td>\n",
       "    </tr>\n",
       "    <tr>\n",
       "      <th>K_TMT_E_B_success</th>\n",
       "      <td>-0.484719</td>\n",
       "      <td>-0.225222</td>\n",
       "      <td>-0.108416</td>\n",
       "      <td>-0.000000</td>\n",
       "      <td>-0.000000</td>\n",
       "      <td>-0.000000</td>\n",
       "    </tr>\n",
       "  </tbody>\n",
       "</table>\n",
       "</div>"
      ],
      "text/plain": [
       "                                 alpha:0.01  alpha:0.07  alpha:0.1  alpha:0.5  \\\n",
       "sex                                0.224114    0.020001   0.000000   0.000000   \n",
       "edu_years                          0.034035    0.030252   0.027635   0.009919   \n",
       "Age                                0.020778    0.021188   0.021807   0.019677   \n",
       "Rey_CFT_copy_score                -0.105760   -0.129739  -0.134860  -0.130384   \n",
       "K_TMT_E_A_success                 -0.231888   -0.000000  -0.000000  -0.000000   \n",
       "K_MMSE_drawing                    -0.267403   -0.057561  -0.000000  -0.000000   \n",
       "Luria_loop                        -0.328548   -0.052424  -0.000000  -0.000000   \n",
       "Alternating_square_and_triangle   -0.361294   -0.050550  -0.000000  -0.000000   \n",
       "K_TMT_E_B_success                 -0.484719   -0.225222  -0.108416  -0.000000   \n",
       "\n",
       "                                  alpha:1   alpha:3  \n",
       "sex                              0.000000  0.000000  \n",
       "edu_years                        0.000000  0.000000  \n",
       "Age                              0.016385  0.005602  \n",
       "Rey_CFT_copy_score              -0.125444 -0.114268  \n",
       "K_TMT_E_A_success               -0.000000 -0.000000  \n",
       "K_MMSE_drawing                  -0.000000 -0.000000  \n",
       "Luria_loop                      -0.000000 -0.000000  \n",
       "Alternating_square_and_triangle -0.000000 -0.000000  \n",
       "K_TMT_E_B_success               -0.000000 -0.000000  "
      ]
     },
     "execution_count": 14,
     "metadata": {},
     "output_type": "execute_result"
    }
   ],
   "source": [
    "# 반환된 coeff_elastic_df를 첫번째 컬럼순으로 내림차순 정렬하여 회귀계수 DataFrame출력\n",
    "sort_column = 'alpha:'+str(elastic_alphas[0])\n",
    "coeff_elastic_df.sort_values(by=sort_column, ascending=False)"
   ]
  },
  {
   "cell_type": "markdown",
   "metadata": {},
   "source": [
    "## 데이터 변환 후 릿지, 라쏘, 엘라스틱넷"
   ]
  },
  {
   "cell_type": "code",
   "execution_count": 17,
   "metadata": {},
   "outputs": [],
   "source": [
    "from sklearn.preprocessing import StandardScaler, MinMaxScaler, PolynomialFeatures\n",
    "\n",
    "# method는 표준 정규 분포 변환(Standard), 최대값/최소값 정규화(MinMax), 로그변환(Log) 결정\n",
    "# p_degree는 다향식 특성을 추가할 때 적용. p_degree는 2이상 부여하지 않음. \n",
    "def get_scaled_data(method='None', p_degree=None, input_data=None):\n",
    "    if method == 'Standard':\n",
    "        scaled_data = StandardScaler().fit_transform(input_data)\n",
    "    elif method == 'MinMax':\n",
    "        scaled_data = MinMaxScaler().fit_transform(input_data)\n",
    "    elif method == 'Log':\n",
    "        scaled_data = np.log1p(input_data)\n",
    "    else:\n",
    "        scaled_data = input_data\n",
    "\n",
    "    if p_degree != None:\n",
    "        scaled_data = PolynomialFeatures(degree=p_degree, \n",
    "                                         include_bias=False).fit_transform(scaled_data)\n",
    "    \n",
    "    return scaled_data"
   ]
  },
  {
   "cell_type": "markdown",
   "metadata": {},
   "source": [
    "### 릿지 Test"
   ]
  },
  {
   "cell_type": "code",
   "execution_count": 18,
   "metadata": {},
   "outputs": [
    {
     "name": "stdout",
     "output_type": "stream",
     "text": [
      "\n",
      "## 변환 유형:None, Polynomial Degree:None\n",
      "alpha 0일 때 5 폴드 세트의 평균 RMSE: 1.828 \n",
      "alpha 1일 때 5 폴드 세트의 평균 RMSE: 1.828 \n",
      "alpha 10일 때 5 폴드 세트의 평균 RMSE: 1.827 \n",
      "alpha 100일 때 5 폴드 세트의 평균 RMSE: 1.826 \n",
      "alpha 200일 때 5 폴드 세트의 평균 RMSE: 1.828 \n",
      "\n",
      "## 변환 유형:Standard, Polynomial Degree:None\n",
      "alpha 0일 때 5 폴드 세트의 평균 RMSE: 1.828 \n",
      "alpha 1일 때 5 폴드 세트의 평균 RMSE: 1.828 \n",
      "alpha 10일 때 5 폴드 세트의 평균 RMSE: 1.828 \n",
      "alpha 100일 때 5 폴드 세트의 평균 RMSE: 1.829 \n",
      "alpha 200일 때 5 폴드 세트의 평균 RMSE: 1.832 \n",
      "\n",
      "## 변환 유형:Standard, Polynomial Degree:2\n",
      "alpha 0일 때 5 폴드 세트의 평균 RMSE: 1.769 \n",
      "alpha 1일 때 5 폴드 세트의 평균 RMSE: 1.760 \n",
      "alpha 10일 때 5 폴드 세트의 평균 RMSE: 1.759 \n",
      "alpha 100일 때 5 폴드 세트의 평균 RMSE: 1.755 \n",
      "alpha 200일 때 5 폴드 세트의 평균 RMSE: 1.755 \n",
      "\n",
      "## 변환 유형:MinMax, Polynomial Degree:None\n",
      "alpha 0일 때 5 폴드 세트의 평균 RMSE: 1.828 \n",
      "alpha 1일 때 5 폴드 세트의 평균 RMSE: 1.828 \n",
      "alpha 10일 때 5 폴드 세트의 평균 RMSE: 1.830 \n",
      "alpha 100일 때 5 폴드 세트의 평균 RMSE: 1.870 \n",
      "alpha 200일 때 5 폴드 세트의 평균 RMSE: 1.899 \n",
      "\n",
      "## 변환 유형:MinMax, Polynomial Degree:2\n",
      "alpha 0일 때 5 폴드 세트의 평균 RMSE: 1.757 \n",
      "alpha 1일 때 5 폴드 세트의 평균 RMSE: 1.753 \n",
      "alpha 10일 때 5 폴드 세트의 평균 RMSE: 1.764 \n",
      "alpha 100일 때 5 폴드 세트의 평균 RMSE: 1.801 \n",
      "alpha 200일 때 5 폴드 세트의 평균 RMSE: 1.816 \n",
      "\n",
      "## 변환 유형:Log, Polynomial Degree:None\n",
      "alpha 0일 때 5 폴드 세트의 평균 RMSE: 1.832 \n",
      "alpha 1일 때 5 폴드 세트의 평균 RMSE: 1.832 \n",
      "alpha 10일 때 5 폴드 세트의 평균 RMSE: 1.830 \n",
      "alpha 100일 때 5 폴드 세트의 평균 RMSE: 1.839 \n",
      "alpha 200일 때 5 폴드 세트의 평균 RMSE: 1.859 \n"
     ]
    }
   ],
   "source": [
    "scale_methods=[(None, None), ('Standard', None), ('Standard', 2), \n",
    "               ('MinMax', None), ('MinMax', 2), ('Log', None)]\n",
    "for scale_method in scale_methods:\n",
    "    X_data_scaled = get_scaled_data(method=scale_method[0], p_degree=scale_method[1], \n",
    "                                    input_data=X_data)\n",
    "    print('\\n## 변환 유형:{0}, Polynomial Degree:{1}'.format(scale_method[0], scale_method[1]))\n",
    "    get_linear_reg_eval('Ridge', params=alphas, X_data_n=X_data_scaled, \n",
    "                        y_target_n=y_target, verbose=False)"
   ]
  },
  {
   "cell_type": "markdown",
   "metadata": {},
   "source": [
    "### 라쏘 Test"
   ]
  },
  {
   "cell_type": "code",
   "execution_count": 19,
   "metadata": {},
   "outputs": [
    {
     "name": "stdout",
     "output_type": "stream",
     "text": [
      "\n",
      "## 변환 유형:None, Polynomial Degree:None\n",
      "alpha 0일 때 5 폴드 세트의 평균 RMSE: 1.828 \n",
      "alpha 1일 때 5 폴드 세트의 평균 RMSE: 1.857 \n",
      "alpha 10일 때 5 폴드 세트의 평균 RMSE: 2.113 \n",
      "alpha 100일 때 5 폴드 세트의 평균 RMSE: 2.325 \n",
      "alpha 200일 때 5 폴드 세트의 평균 RMSE: 2.325 \n",
      "\n",
      "## 변환 유형:Standard, Polynomial Degree:None\n",
      "alpha 0일 때 5 폴드 세트의 평균 RMSE: 1.828 \n",
      "alpha 1일 때 5 폴드 세트의 평균 RMSE: 2.117 \n",
      "alpha 10일 때 5 폴드 세트의 평균 RMSE: 2.325 \n",
      "alpha 100일 때 5 폴드 세트의 평균 RMSE: 2.325 \n",
      "alpha 200일 때 5 폴드 세트의 평균 RMSE: 2.325 \n",
      "\n",
      "## 변환 유형:Standard, Polynomial Degree:2\n",
      "alpha 0일 때 5 폴드 세트의 평균 RMSE: 1.760 \n",
      "alpha 1일 때 5 폴드 세트의 평균 RMSE: 2.120 \n",
      "alpha 10일 때 5 폴드 세트의 평균 RMSE: 2.325 \n",
      "alpha 100일 때 5 폴드 세트의 평균 RMSE: 2.325 \n",
      "alpha 200일 때 5 폴드 세트의 평균 RMSE: 2.325 \n",
      "\n",
      "## 변환 유형:MinMax, Polynomial Degree:None\n",
      "alpha 0일 때 5 폴드 세트의 평균 RMSE: 1.828 \n",
      "alpha 1일 때 5 폴드 세트의 평균 RMSE: 2.325 \n",
      "alpha 10일 때 5 폴드 세트의 평균 RMSE: 2.325 \n",
      "alpha 100일 때 5 폴드 세트의 평균 RMSE: 2.325 \n",
      "alpha 200일 때 5 폴드 세트의 평균 RMSE: 2.325 \n",
      "\n",
      "## 변환 유형:MinMax, Polynomial Degree:2\n",
      "alpha 0일 때 5 폴드 세트의 평균 RMSE: 1.760 \n",
      "alpha 1일 때 5 폴드 세트의 평균 RMSE: 2.325 \n",
      "alpha 10일 때 5 폴드 세트의 평균 RMSE: 2.325 \n",
      "alpha 100일 때 5 폴드 세트의 평균 RMSE: 2.325 \n",
      "alpha 200일 때 5 폴드 세트의 평균 RMSE: 2.325 \n",
      "\n",
      "## 변환 유형:Log, Polynomial Degree:None\n",
      "alpha 0일 때 5 폴드 세트의 평균 RMSE: 1.832 \n",
      "alpha 1일 때 5 폴드 세트의 평균 RMSE: 2.325 \n",
      "alpha 10일 때 5 폴드 세트의 평균 RMSE: 2.325 \n",
      "alpha 100일 때 5 폴드 세트의 평균 RMSE: 2.325 \n",
      "alpha 200일 때 5 폴드 세트의 평균 RMSE: 2.325 \n"
     ]
    }
   ],
   "source": [
    "for scale_method in scale_methods:\n",
    "    X_data_scaled = get_scaled_data(method=scale_method[0], p_degree=scale_method[1], \n",
    "                                    input_data=X_data)\n",
    "    print('\\n## 변환 유형:{0}, Polynomial Degree:{1}'.format(scale_method[0], scale_method[1]))\n",
    "    get_linear_reg_eval('Lasso', params=alphas, X_data_n=X_data_scaled, \n",
    "                        y_target_n=y_target, verbose=False)"
   ]
  },
  {
   "cell_type": "markdown",
   "metadata": {},
   "source": [
    "### 엘라스틱넷 Test"
   ]
  },
  {
   "cell_type": "code",
   "execution_count": 20,
   "metadata": {},
   "outputs": [
    {
     "name": "stdout",
     "output_type": "stream",
     "text": [
      "\n",
      "## 변환 유형:None, Polynomial Degree:None\n",
      "alpha 0일 때 5 폴드 세트의 평균 RMSE: 1.828 \n",
      "alpha 1일 때 5 폴드 세트의 평균 RMSE: 1.856 \n",
      "alpha 10일 때 5 폴드 세트의 평균 RMSE: 1.995 \n",
      "alpha 100일 때 5 폴드 세트의 평균 RMSE: 2.325 \n",
      "alpha 200일 때 5 폴드 세트의 평균 RMSE: 2.325 \n",
      "\n",
      "## 변환 유형:Standard, Polynomial Degree:None\n",
      "alpha 0일 때 5 폴드 세트의 평균 RMSE: 1.828 \n",
      "alpha 1일 때 5 폴드 세트의 평균 RMSE: 2.053 \n",
      "alpha 10일 때 5 폴드 세트의 평균 RMSE: 2.325 \n",
      "alpha 100일 때 5 폴드 세트의 평균 RMSE: 2.325 \n",
      "alpha 200일 때 5 폴드 세트의 평균 RMSE: 2.325 \n",
      "\n",
      "## 변환 유형:Standard, Polynomial Degree:2\n",
      "alpha 0일 때 5 폴드 세트의 평균 RMSE: 1.760 \n",
      "alpha 1일 때 5 폴드 세트의 평균 RMSE: 2.035 \n",
      "alpha 10일 때 5 폴드 세트의 평균 RMSE: 2.325 \n",
      "alpha 100일 때 5 폴드 세트의 평균 RMSE: 2.325 \n",
      "alpha 200일 때 5 폴드 세트의 평균 RMSE: 2.325 \n",
      "\n",
      "## 변환 유형:MinMax, Polynomial Degree:None\n",
      "alpha 0일 때 5 폴드 세트의 평균 RMSE: 1.828 \n",
      "alpha 1일 때 5 폴드 세트의 평균 RMSE: 2.325 \n",
      "alpha 10일 때 5 폴드 세트의 평균 RMSE: 2.325 \n",
      "alpha 100일 때 5 폴드 세트의 평균 RMSE: 2.325 \n",
      "alpha 200일 때 5 폴드 세트의 평균 RMSE: 2.325 \n",
      "\n",
      "## 변환 유형:MinMax, Polynomial Degree:2\n",
      "alpha 0일 때 5 폴드 세트의 평균 RMSE: 1.760 \n",
      "alpha 1일 때 5 폴드 세트의 평균 RMSE: 2.325 \n",
      "alpha 10일 때 5 폴드 세트의 평균 RMSE: 2.325 \n",
      "alpha 100일 때 5 폴드 세트의 평균 RMSE: 2.325 \n",
      "alpha 200일 때 5 폴드 세트의 평균 RMSE: 2.325 \n",
      "\n",
      "## 변환 유형:Log, Polynomial Degree:None\n",
      "alpha 0일 때 5 폴드 세트의 평균 RMSE: 1.832 \n",
      "alpha 1일 때 5 폴드 세트의 평균 RMSE: 2.261 \n",
      "alpha 10일 때 5 폴드 세트의 평균 RMSE: 2.325 \n",
      "alpha 100일 때 5 폴드 세트의 평균 RMSE: 2.325 \n",
      "alpha 200일 때 5 폴드 세트의 평균 RMSE: 2.325 \n"
     ]
    }
   ],
   "source": [
    "for scale_method in scale_methods:\n",
    "    X_data_scaled = get_scaled_data(method=scale_method[0], p_degree=scale_method[1], \n",
    "                                    input_data=X_data)\n",
    "    print('\\n## 변환 유형:{0}, Polynomial Degree:{1}'.format(scale_method[0], scale_method[1]))\n",
    "    get_linear_reg_eval('ElasticNet', params=alphas, X_data_n=X_data_scaled, \n",
    "                        y_target_n=y_target, verbose=False)"
   ]
  },
  {
   "cell_type": "markdown",
   "metadata": {},
   "source": [
    "평균적으로 릿지의 성능이 가장 좋다! 피처의 개수가 많지 않기 때문. 회귀계수를 0으로 조정해 피처를 무시해버리는 L1 규제는 적합하지 않아보인다."
   ]
  },
  {
   "cell_type": "markdown",
   "metadata": {},
   "source": [
    "## 회귀 트리 방식"
   ]
  },
  {
   "cell_type": "code",
   "execution_count": null,
   "metadata": {},
   "outputs": [],
   "source": [
    "from sklearn.ensemble import RandomForestRegressor\n",
    "\n",
    "X_data_scaled = get_scaled_data(method='MinMax', p_degree=2, input_data=X_data)\n",
    "\n",
    "rf = RandomForestRegressor(random_state=0, n_estimators=1000)\n",
    "neg_mse_scores = cross_val_score(rf, X_data_scaled, y_target, scoring=\"neg_mean_squared_error\", cv = 5)\n",
    "rmse_scores  = np.sqrt(-1 * neg_mse_scores)\n",
    "avg_rmse = np.mean(rmse_scores)\n",
    "\n",
    "print(' 5 교차 검증의 개별 Negative MSE scores: ', np.round(neg_mse_scores, 2))\n",
    "print(' 5 교차 검증의 개별 RMSE scores : ', np.round(rmse_scores, 2))\n",
    "print(' 5 교차 검증의 평균 RMSE : {0:.3f} '.format(avg_rmse))"
   ]
  },
  {
   "cell_type": "code",
   "execution_count": 22,
   "metadata": {},
   "outputs": [],
   "source": [
    "def get_model_cv_prediction(model, X_data, y_target):\n",
    "    neg_mse_scores = cross_val_score(model, X_data, y_target, scoring=\"neg_mean_squared_error\", cv = 5)\n",
    "    rmse_scores  = np.sqrt(-1 * neg_mse_scores)\n",
    "    avg_rmse = np.mean(rmse_scores)\n",
    "    print('##### ',model.__class__.__name__ , ' #####')\n",
    "    print(' 5 교차 검증의 평균 RMSE : {0:.3f} '.format(avg_rmse))"
   ]
  },
  {
   "cell_type": "code",
   "execution_count": 25,
   "metadata": {},
   "outputs": [
    {
     "name": "stdout",
     "output_type": "stream",
     "text": [
      "#####  DecisionTreeRegressor  #####\n",
      " 5 교차 검증의 평균 RMSE : 1.835 \n",
      "#####  RandomForestRegressor  #####\n",
      " 5 교차 검증의 평균 RMSE : 1.770 \n",
      "#####  GradientBoostingRegressor  #####\n",
      " 5 교차 검증의 평균 RMSE : 1.897 \n"
     ]
    }
   ],
   "source": [
    "from sklearn.tree import DecisionTreeRegressor\n",
    "from sklearn.ensemble import GradientBoostingRegressor\n",
    "\n",
    "dt_reg = DecisionTreeRegressor(random_state=0, max_depth=4)\n",
    "rf_reg = RandomForestRegressor(random_state=0, n_estimators=1000)\n",
    "gb_reg = GradientBoostingRegressor(random_state=0, n_estimators=1000)\n",
    "\n",
    "# 트리 기반의 회귀 모델을 반복하면서 평가 수행 \n",
    "models = [dt_reg, rf_reg, gb_reg]\n",
    "for model in models:  \n",
    "    get_model_cv_prediction(model, X_data, y_target)"
   ]
  },
  {
   "cell_type": "code",
   "execution_count": 26,
   "metadata": {},
   "outputs": [
    {
     "data": {
      "text/plain": [
       "<matplotlib.axes._subplots.AxesSubplot at 0x1fa31e82460>"
      ]
     },
     "execution_count": 26,
     "metadata": {},
     "output_type": "execute_result"
    },
    {
     "data": {
      "image/png": "[encoded data removed]",
      "text/plain": [
       "<Figure size 432x288 with 1 Axes>"
      ]
     },
     "metadata": {
      "needs_background": "light"
     },
     "output_type": "display_data"
    }
   ],
   "source": [
    "import seaborn as sns\n",
    "%matplotlib inline\n",
    "\n",
    "rf_reg = RandomForestRegressor(n_estimators=1000)\n",
    "\n",
    "# 앞 예제에서 만들어진 X_data, y_target 데이터 셋을 적용하여 학습합니다.   \n",
    "rf_reg.fit(X_data, y_target)\n",
    "\n",
    "feature_series = pd.Series(data=rf_reg.feature_importances_, index=X_data.columns )\n",
    "feature_series = feature_series.sort_values(ascending=False)\n",
    "sns.barplot(x= feature_series, y=feature_series.index)"
   ]
  },
  {
   "cell_type": "code",
   "execution_count": 39,
   "metadata": {},
   "outputs": [
    {
     "name": "stdout",
     "output_type": "stream",
     "text": [
      "(100, 2)\n"
     ]
    },
    {
     "data": {
      "text/plain": [
       "<matplotlib.collections.PathCollection at 0x1fa3204c220>"
      ]
     },
     "execution_count": 39,
     "metadata": {},
     "output_type": "execute_result"
    },
    {
     "data": {
      "image/png": "[encoded data removed]",
      "text/plain": [
       "<Figure size 432x288 with 1 Axes>"
      ]
     },
     "metadata": {
      "needs_background": "light"
     },
     "output_type": "display_data"
    }
   ],
   "source": [
    "import matplotlib.pyplot as plt\n",
    "%matplotlib inline\n",
    "\n",
    "data_table_sample = data_table[['Rey_CFT_copy_score','Sum_of_boxes']]\n",
    "data_table_sample = data_table_sample.sample(n=100,random_state=0)\n",
    "print(data_table_sample.shape)\n",
    "plt.figure()\n",
    "plt.scatter(data_table_sample.Rey_CFT_copy_score , data_table_sample.Sum_of_boxes,c=\"darkorange\")"
   ]
  },
  {
   "cell_type": "code",
   "execution_count": 45,
   "metadata": {},
   "outputs": [],
   "source": [
    "import numpy as np\n",
    "from sklearn.linear_model import LinearRegression\n",
    "\n",
    "# 선형 회귀와 결정 트리 기반의 Regressor 생성. DecisionTreeRegressor의 max_depth는 각각 2, 7\n",
    "lr_reg = LinearRegression()\n",
    "rf_reg1 = DecisionTreeRegressor(max_depth=1)\n",
    "rf_reg2 = DecisionTreeRegressor(max_depth=2)\n",
    "\n",
    "# 실제 예측을 적용할 테스트용 데이터 셋을 0 ~ 35 까지 100개 데이터 셋 생성. \n",
    "X_test = np.arange(0, 35, 0.05).reshape(-1, 1)\n",
    "\n",
    "# 보스턴 주택가격 데이터에서 시각화를 위해 피처는 RM만, 그리고 결정 데이터인 PRICE 추출\n",
    "X_feature = data_table_sample['Rey_CFT_copy_score'].values.reshape(-1,1)\n",
    "y_target = data_table_sample['Sum_of_boxes'].values.reshape(-1,1)\n",
    "\n",
    "# 학습과 예측 수행. \n",
    "lr_reg.fit(X_feature, y_target)\n",
    "rf_reg1.fit(X_feature, y_target)\n",
    "rf_reg2.fit(X_feature, y_target)\n",
    "\n",
    "pred_lr = lr_reg.predict(X_test)\n",
    "pred_rf1 = rf_reg1.predict(X_test)\n",
    "pred_rf2 = rf_reg2.predict(X_test)"
   ]
  },
  {
   "cell_type": "code",
   "execution_count": 47,
   "metadata": {},
   "outputs": [
    {
     "data": {
      "text/plain": [
       "[<matplotlib.lines.Line2D at 0x1fa3ff25910>]"
      ]
     },
     "execution_count": 47,
     "metadata": {},
     "output_type": "execute_result"
    },
    {
     "data": {
      "image/png": "[encoded data removed]",
      "text/plain": [
       "<Figure size 1008x288 with 3 Axes>"
      ]
     },
     "metadata": {
      "needs_background": "light"
     },
     "output_type": "display_data"
    }
   ],
   "source": [
    "fig , (ax1, ax2, ax3) = plt.subplots(figsize=(14,4), ncols=3)\n",
    "\n",
    "# X축값을 4.5 ~ 8.5로 변환하며 입력했을 때, 선형 회귀와 결정 트리 회귀 예측 선 시각화\n",
    "# 선형 회귀로 학습된 모델 회귀 예측선 \n",
    "ax1.set_title('Linear Regression')\n",
    "ax1.scatter(data_table_sample.Rey_CFT_copy_score, data_table_sample.Sum_of_boxes, c=\"darkorange\")\n",
    "ax1.plot(X_test, pred_lr,label=\"linear\", linewidth=2 )\n",
    "\n",
    "# DecisionTreeRegressor의 max_depth를 2로 했을 때 회귀 예측선 \n",
    "ax2.set_title('Decision Tree Regression: \\n max_depth=1')\n",
    "ax2.scatter(data_table_sample.Rey_CFT_copy_score, data_table_sample.Sum_of_boxes, c=\"darkorange\")\n",
    "ax2.plot(X_test, pred_rf1, label=\"max_depth:1\", linewidth=2 )\n",
    "\n",
    "# DecisionTreeRegressor의 max_depth를 7로 했을 때 회귀 예측선 \n",
    "ax3.set_title('Decision Tree Regression: \\n max_depth=2')\n",
    "ax3.scatter(data_table_sample.Rey_CFT_copy_score, data_table_sample.Sum_of_boxes, c=\"darkorange\")\n",
    "ax3.plot(X_test, pred_rf2, label=\"max_depth:2\", linewidth=2)"
   ]
  },
  {
   "cell_type": "code",
   "execution_count": null,
   "metadata": {},
   "outputs": [],
   "source": []
  }
 ],
 "metadata": {
  "kernelspec": {
   "display_name": "Python 3",
   "language": "python",
   "name": "python3"
  },
  "language_info": {
   "codemirror_mode": {
    "name": "ipython",
    "version": 3
   },
   "file_extension": ".py",
   "mimetype": "text/x-python",
   "name": "python",
   "nbconvert_exporter": "python",
   "pygments_lexer": "ipython3",
   "version": "3.8.3"
  }
 },
 "nbformat": 4,
 "nbformat_minor": 4
}
