{
 "cells": [
  {
   "cell_type": "code",
   "execution_count": 1,
   "id": "conservative-cycling",
   "metadata": {},
   "outputs": [],
   "source": [
    "import torch \n",
    "import torchvision\n",
    "import torchvision.transforms as tr\n",
    "import torchvision.datasets as dset\n",
    "from torch.utils.data import DataLoader, Dataset\n",
    "\n",
    "from torch.autograd import Variable\n",
    "from torch.autograd import Function\n",
    "\n",
    "import torch.nn as nn\n",
    "import torch.optim as optim\n",
    "import torch.nn.init as init\n",
    "\n",
    "import numpy as np\n",
    "import matplotlib.pyplot as plt\n",
    "%matplotlib inline\n",
    "\n",
    "import random\n",
    "\n",
    "import visdom\n",
    "import os"
   ]
  },
  {
   "cell_type": "markdown",
   "id": "confused-formation",
   "metadata": {},
   "source": [
    "### Vis 실시간 시각화"
   ]
  },
  {
   "cell_type": "code",
   "execution_count": 2,
   "id": "pleasant-desert",
   "metadata": {},
   "outputs": [
    {
     "name": "stderr",
     "output_type": "stream",
     "text": [
      "Setting up a new session...\n",
      "Setting up a new session...\n"
     ]
    }
   ],
   "source": [
    "## terminal command : python -m visdom.server\n",
    "vis = visdom.Visdom()\n",
    "vis2 = visdom.Visdom()\n",
    "plot = vis.line(Y=torch.tensor([0]), X=torch.tensor([0]))\n",
    "plot2= vis2.line(Y=torch.tensor([0]),X=torch.tensor([0]))"
   ]
  },
  {
   "cell_type": "markdown",
   "id": "characteristic-router",
   "metadata": {},
   "source": [
    "### CUDA Checking"
   ]
  },
  {
   "cell_type": "code",
   "execution_count": 3,
   "id": "falling-attribute",
   "metadata": {},
   "outputs": [
    {
     "name": "stdout",
     "output_type": "stream",
     "text": [
      "cuda:0\n"
     ]
    }
   ],
   "source": [
    "device = torch.device(\"cuda:0\" if torch.cuda.is_available() else \"cpu\")\n",
    "print(device)"
   ]
  },
  {
   "cell_type": "markdown",
   "id": "touched-mattress",
   "metadata": {},
   "source": [
    "### Transfer 설정 및 이미지 데이터 로딩"
   ]
  },
  {
   "cell_type": "code",
   "execution_count": 4,
   "id": "original-storm",
   "metadata": {},
   "outputs": [
    {
     "name": "stdout",
     "output_type": "stream",
     "text": [
      "Dataset ImageFolder\n",
      "    Number of datapoints: 666\n",
      "    Root location: ./CNN\n",
      "    StandardTransform\n",
      "Transform: Compose(\n",
      "               Resize(size=(128, 128), interpolation=PIL.Image.BILINEAR)\n",
      "               ToTensor()\n",
      "               Normalize(mean=(0.5, 0.5, 0.5), std=(0.5, 0.5, 0.5))\n",
      "           )\n"
     ]
    }
   ],
   "source": [
    "transf = tr.Compose([tr.Resize((128, 128)),\n",
    "                     tr.ToTensor(),\n",
    "                     tr.Normalize((0.5, 0.5, 0.5), (0.5, 0.5, 0.5))]) # 128x128 이미지 크기 변환 후 텐서 제작\n",
    "image_datasets = torchvision.datasets.ImageFolder(root='./CNN', transform=transf) # 4번 검사 데이터 데이터 로딩\n",
    "print(image_datasets)"
   ]
  },
  {
   "cell_type": "code",
   "execution_count": 5,
   "id": "minute-diameter",
   "metadata": {},
   "outputs": [
    {
     "name": "stdout",
     "output_type": "stream",
     "text": [
      "['Deform&PSV', 'Deformed', 'Normal', 'PSV']\n"
     ]
    }
   ],
   "source": [
    "class_names = image_datasets.classes\n",
    "print(class_names)"
   ]
  },
  {
   "cell_type": "code",
   "execution_count": 6,
   "id": "mineral-district",
   "metadata": {},
   "outputs": [],
   "source": [
    "train_size = int(0.6 * len(image_datasets))\n",
    "test_size = len(image_datasets) - train_size\n",
    "\n",
    "train_dataset, test_dataset = torch.utils.data.random_split(image_datasets, [train_size, test_size])\n",
    "\n",
    "train_loader = DataLoader(train_dataset, batch_size = 8, shuffle = True)\n",
    "validation_loader = DataLoader(test_dataset, batch_size = 8, shuffle = False)"
   ]
  },
  {
   "cell_type": "code",
   "execution_count": 7,
   "id": "fifth-inspector",
   "metadata": {},
   "outputs": [],
   "source": [
    "def imshow(inp, title=None):\n",
    "    #Imshow for Tensor#\n",
    "    inp = inp.numpy().transpose((1,2,0))\n",
    "    mean = np.array([0.5, 0.5, 0.5])\n",
    "    std = np.array([0.5, 0.5, 0.5])\n",
    "    inp = std * inp + mean\n",
    "    inp = np.clip(inp,0,1)\n",
    "    plt.imshow(inp)\n",
    "    if title is not None:\n",
    "        plt.title(title)\n",
    "    plt.pause(0.001) # pause a bit so that plots are updated"
   ]
  },
  {
   "cell_type": "code",
   "execution_count": 8,
   "id": "civic-slovakia",
   "metadata": {},
   "outputs": [
    {
     "name": "stdout",
     "output_type": "stream",
     "text": [
      "tensor([2, 2, 2, 2, 2, 2, 2, 2])\n"
     ]
    }
   ],
   "source": [
    "inputs, classes = next(iter(train_loader))\n",
    "print(classes)"
   ]
  },
  {
   "cell_type": "code",
   "execution_count": 9,
   "id": "afraid-workplace",
   "metadata": {},
   "outputs": [
    {
     "data": {
      "image/png": "[encoded data removed]",
      "text/plain": [
       "<Figure size 432x288 with 1 Axes>"
      ]
     },
     "metadata": {
      "needs_background": "light"
     },
     "output_type": "display_data"
    }
   ],
   "source": [
    "out = torchvision.utils.make_grid(inputs)\n",
    "imshow(out,title=[class_names[x] for x in classes])"
   ]
  },
  {
   "cell_type": "code",
   "execution_count": 10,
   "id": "spatial-former",
   "metadata": {},
   "outputs": [],
   "source": [
    "model = torchvision.models.resnet18(pretrained=True)"
   ]
  },
  {
   "cell_type": "code",
   "execution_count": 11,
   "id": "blond-restriction",
   "metadata": {},
   "outputs": [
    {
     "name": "stdout",
     "output_type": "stream",
     "text": [
      "ResNet(\n",
      "  (conv1): Conv2d(3, 64, kernel_size=(7, 7), stride=(2, 2), padding=(3, 3), bias=False)\n",
      "  (bn1): BatchNorm2d(64, eps=1e-05, momentum=0.1, affine=True, track_running_stats=True)\n",
      "  (relu): ReLU(inplace=True)\n",
      "  (maxpool): MaxPool2d(kernel_size=3, stride=2, padding=1, dilation=1, ceil_mode=False)\n",
      "  (layer1): Sequential(\n",
      "    (0): BasicBlock(\n",
      "      (conv1): Conv2d(64, 64, kernel_size=(3, 3), stride=(1, 1), padding=(1, 1), bias=False)\n",
      "      (bn1): BatchNorm2d(64, eps=1e-05, momentum=0.1, affine=True, track_running_stats=True)\n",
      "      (relu): ReLU(inplace=True)\n",
      "      (conv2): Conv2d(64, 64, kernel_size=(3, 3), stride=(1, 1), padding=(1, 1), bias=False)\n",
      "      (bn2): BatchNorm2d(64, eps=1e-05, momentum=0.1, affine=True, track_running_stats=True)\n",
      "    )\n",
      "    (1): BasicBlock(\n",
      "      (conv1): Conv2d(64, 64, kernel_size=(3, 3), stride=(1, 1), padding=(1, 1), bias=False)\n",
      "      (bn1): BatchNorm2d(64, eps=1e-05, momentum=0.1, affine=True, track_running_stats=True)\n",
      "      (relu): ReLU(inplace=True)\n",
      "      (conv2): Conv2d(64, 64, kernel_size=(3, 3), stride=(1, 1), padding=(1, 1), bias=False)\n",
      "      (bn2): BatchNorm2d(64, eps=1e-05, momentum=0.1, affine=True, track_running_stats=True)\n",
      "    )\n",
      "  )\n",
      "  (layer2): Sequential(\n",
      "    (0): BasicBlock(\n",
      "      (conv1): Conv2d(64, 128, kernel_size=(3, 3), stride=(2, 2), padding=(1, 1), bias=False)\n",
      "      (bn1): BatchNorm2d(128, eps=1e-05, momentum=0.1, affine=True, track_running_stats=True)\n",
      "      (relu): ReLU(inplace=True)\n",
      "      (conv2): Conv2d(128, 128, kernel_size=(3, 3), stride=(1, 1), padding=(1, 1), bias=False)\n",
      "      (bn2): BatchNorm2d(128, eps=1e-05, momentum=0.1, affine=True, track_running_stats=True)\n",
      "      (downsample): Sequential(\n",
      "        (0): Conv2d(64, 128, kernel_size=(1, 1), stride=(2, 2), bias=False)\n",
      "        (1): BatchNorm2d(128, eps=1e-05, momentum=0.1, affine=True, track_running_stats=True)\n",
      "      )\n",
      "    )\n",
      "    (1): BasicBlock(\n",
      "      (conv1): Conv2d(128, 128, kernel_size=(3, 3), stride=(1, 1), padding=(1, 1), bias=False)\n",
      "      (bn1): BatchNorm2d(128, eps=1e-05, momentum=0.1, affine=True, track_running_stats=True)\n",
      "      (relu): ReLU(inplace=True)\n",
      "      (conv2): Conv2d(128, 128, kernel_size=(3, 3), stride=(1, 1), padding=(1, 1), bias=False)\n",
      "      (bn2): BatchNorm2d(128, eps=1e-05, momentum=0.1, affine=True, track_running_stats=True)\n",
      "    )\n",
      "  )\n",
      "  (layer3): Sequential(\n",
      "    (0): BasicBlock(\n",
      "      (conv1): Conv2d(128, 256, kernel_size=(3, 3), stride=(2, 2), padding=(1, 1), bias=False)\n",
      "      (bn1): BatchNorm2d(256, eps=1e-05, momentum=0.1, affine=True, track_running_stats=True)\n",
      "      (relu): ReLU(inplace=True)\n",
      "      (conv2): Conv2d(256, 256, kernel_size=(3, 3), stride=(1, 1), padding=(1, 1), bias=False)\n",
      "      (bn2): BatchNorm2d(256, eps=1e-05, momentum=0.1, affine=True, track_running_stats=True)\n",
      "      (downsample): Sequential(\n",
      "        (0): Conv2d(128, 256, kernel_size=(1, 1), stride=(2, 2), bias=False)\n",
      "        (1): BatchNorm2d(256, eps=1e-05, momentum=0.1, affine=True, track_running_stats=True)\n",
      "      )\n",
      "    )\n",
      "    (1): BasicBlock(\n",
      "      (conv1): Conv2d(256, 256, kernel_size=(3, 3), stride=(1, 1), padding=(1, 1), bias=False)\n",
      "      (bn1): BatchNorm2d(256, eps=1e-05, momentum=0.1, affine=True, track_running_stats=True)\n",
      "      (relu): ReLU(inplace=True)\n",
      "      (conv2): Conv2d(256, 256, kernel_size=(3, 3), stride=(1, 1), padding=(1, 1), bias=False)\n",
      "      (bn2): BatchNorm2d(256, eps=1e-05, momentum=0.1, affine=True, track_running_stats=True)\n",
      "    )\n",
      "  )\n",
      "  (layer4): Sequential(\n",
      "    (0): BasicBlock(\n",
      "      (conv1): Conv2d(256, 512, kernel_size=(3, 3), stride=(2, 2), padding=(1, 1), bias=False)\n",
      "      (bn1): BatchNorm2d(512, eps=1e-05, momentum=0.1, affine=True, track_running_stats=True)\n",
      "      (relu): ReLU(inplace=True)\n",
      "      (conv2): Conv2d(512, 512, kernel_size=(3, 3), stride=(1, 1), padding=(1, 1), bias=False)\n",
      "      (bn2): BatchNorm2d(512, eps=1e-05, momentum=0.1, affine=True, track_running_stats=True)\n",
      "      (downsample): Sequential(\n",
      "        (0): Conv2d(256, 512, kernel_size=(1, 1), stride=(2, 2), bias=False)\n",
      "        (1): BatchNorm2d(512, eps=1e-05, momentum=0.1, affine=True, track_running_stats=True)\n",
      "      )\n",
      "    )\n",
      "    (1): BasicBlock(\n",
      "      (conv1): Conv2d(512, 512, kernel_size=(3, 3), stride=(1, 1), padding=(1, 1), bias=False)\n",
      "      (bn1): BatchNorm2d(512, eps=1e-05, momentum=0.1, affine=True, track_running_stats=True)\n",
      "      (relu): ReLU(inplace=True)\n",
      "      (conv2): Conv2d(512, 512, kernel_size=(3, 3), stride=(1, 1), padding=(1, 1), bias=False)\n",
      "      (bn2): BatchNorm2d(512, eps=1e-05, momentum=0.1, affine=True, track_running_stats=True)\n",
      "    )\n",
      "  )\n",
      "  (avgpool): AdaptiveAvgPool2d(output_size=(1, 1))\n",
      "  (fc): Linear(in_features=512, out_features=1000, bias=True)\n",
      ")\n"
     ]
    }
   ],
   "source": [
    "print(model)"
   ]
  },
  {
   "cell_type": "code",
   "execution_count": 12,
   "id": "split-blackberry",
   "metadata": {},
   "outputs": [],
   "source": [
    "num_ftrs = model.fc.in_features # fc의 입력 노드 수를 산출한다. 512개\n",
    "model.fc = nn.Linear(num_ftrs, 4) # fc를 nn.Linear(num_ftrs, 10)로 대체한다.\n",
    "model = model.to(device)"
   ]
  },
  {
   "cell_type": "code",
   "execution_count": 13,
   "id": "ranging-necessity",
   "metadata": {},
   "outputs": [
    {
     "name": "stdout",
     "output_type": "stream",
     "text": [
      "ResNet(\n",
      "  (conv1): Conv2d(3, 64, kernel_size=(7, 7), stride=(2, 2), padding=(3, 3), bias=False)\n",
      "  (bn1): BatchNorm2d(64, eps=1e-05, momentum=0.1, affine=True, track_running_stats=True)\n",
      "  (relu): ReLU(inplace=True)\n",
      "  (maxpool): MaxPool2d(kernel_size=3, stride=2, padding=1, dilation=1, ceil_mode=False)\n",
      "  (layer1): Sequential(\n",
      "    (0): BasicBlock(\n",
      "      (conv1): Conv2d(64, 64, kernel_size=(3, 3), stride=(1, 1), padding=(1, 1), bias=False)\n",
      "      (bn1): BatchNorm2d(64, eps=1e-05, momentum=0.1, affine=True, track_running_stats=True)\n",
      "      (relu): ReLU(inplace=True)\n",
      "      (conv2): Conv2d(64, 64, kernel_size=(3, 3), stride=(1, 1), padding=(1, 1), bias=False)\n",
      "      (bn2): BatchNorm2d(64, eps=1e-05, momentum=0.1, affine=True, track_running_stats=True)\n",
      "    )\n",
      "    (1): BasicBlock(\n",
      "      (conv1): Conv2d(64, 64, kernel_size=(3, 3), stride=(1, 1), padding=(1, 1), bias=False)\n",
      "      (bn1): BatchNorm2d(64, eps=1e-05, momentum=0.1, affine=True, track_running_stats=True)\n",
      "      (relu): ReLU(inplace=True)\n",
      "      (conv2): Conv2d(64, 64, kernel_size=(3, 3), stride=(1, 1), padding=(1, 1), bias=False)\n",
      "      (bn2): BatchNorm2d(64, eps=1e-05, momentum=0.1, affine=True, track_running_stats=True)\n",
      "    )\n",
      "  )\n",
      "  (layer2): Sequential(\n",
      "    (0): BasicBlock(\n",
      "      (conv1): Conv2d(64, 128, kernel_size=(3, 3), stride=(2, 2), padding=(1, 1), bias=False)\n",
      "      (bn1): BatchNorm2d(128, eps=1e-05, momentum=0.1, affine=True, track_running_stats=True)\n",
      "      (relu): ReLU(inplace=True)\n",
      "      (conv2): Conv2d(128, 128, kernel_size=(3, 3), stride=(1, 1), padding=(1, 1), bias=False)\n",
      "      (bn2): BatchNorm2d(128, eps=1e-05, momentum=0.1, affine=True, track_running_stats=True)\n",
      "      (downsample): Sequential(\n",
      "        (0): Conv2d(64, 128, kernel_size=(1, 1), stride=(2, 2), bias=False)\n",
      "        (1): BatchNorm2d(128, eps=1e-05, momentum=0.1, affine=True, track_running_stats=True)\n",
      "      )\n",
      "    )\n",
      "    (1): BasicBlock(\n",
      "      (conv1): Conv2d(128, 128, kernel_size=(3, 3), stride=(1, 1), padding=(1, 1), bias=False)\n",
      "      (bn1): BatchNorm2d(128, eps=1e-05, momentum=0.1, affine=True, track_running_stats=True)\n",
      "      (relu): ReLU(inplace=True)\n",
      "      (conv2): Conv2d(128, 128, kernel_size=(3, 3), stride=(1, 1), padding=(1, 1), bias=False)\n",
      "      (bn2): BatchNorm2d(128, eps=1e-05, momentum=0.1, affine=True, track_running_stats=True)\n",
      "    )\n",
      "  )\n",
      "  (layer3): Sequential(\n",
      "    (0): BasicBlock(\n",
      "      (conv1): Conv2d(128, 256, kernel_size=(3, 3), stride=(2, 2), padding=(1, 1), bias=False)\n",
      "      (bn1): BatchNorm2d(256, eps=1e-05, momentum=0.1, affine=True, track_running_stats=True)\n",
      "      (relu): ReLU(inplace=True)\n",
      "      (conv2): Conv2d(256, 256, kernel_size=(3, 3), stride=(1, 1), padding=(1, 1), bias=False)\n",
      "      (bn2): BatchNorm2d(256, eps=1e-05, momentum=0.1, affine=True, track_running_stats=True)\n",
      "      (downsample): Sequential(\n",
      "        (0): Conv2d(128, 256, kernel_size=(1, 1), stride=(2, 2), bias=False)\n",
      "        (1): BatchNorm2d(256, eps=1e-05, momentum=0.1, affine=True, track_running_stats=True)\n",
      "      )\n",
      "    )\n",
      "    (1): BasicBlock(\n",
      "      (conv1): Conv2d(256, 256, kernel_size=(3, 3), stride=(1, 1), padding=(1, 1), bias=False)\n",
      "      (bn1): BatchNorm2d(256, eps=1e-05, momentum=0.1, affine=True, track_running_stats=True)\n",
      "      (relu): ReLU(inplace=True)\n",
      "      (conv2): Conv2d(256, 256, kernel_size=(3, 3), stride=(1, 1), padding=(1, 1), bias=False)\n",
      "      (bn2): BatchNorm2d(256, eps=1e-05, momentum=0.1, affine=True, track_running_stats=True)\n",
      "    )\n",
      "  )\n",
      "  (layer4): Sequential(\n",
      "    (0): BasicBlock(\n",
      "      (conv1): Conv2d(256, 512, kernel_size=(3, 3), stride=(2, 2), padding=(1, 1), bias=False)\n",
      "      (bn1): BatchNorm2d(512, eps=1e-05, momentum=0.1, affine=True, track_running_stats=True)\n",
      "      (relu): ReLU(inplace=True)\n",
      "      (conv2): Conv2d(512, 512, kernel_size=(3, 3), stride=(1, 1), padding=(1, 1), bias=False)\n",
      "      (bn2): BatchNorm2d(512, eps=1e-05, momentum=0.1, affine=True, track_running_stats=True)\n",
      "      (downsample): Sequential(\n",
      "        (0): Conv2d(256, 512, kernel_size=(1, 1), stride=(2, 2), bias=False)\n",
      "        (1): BatchNorm2d(512, eps=1e-05, momentum=0.1, affine=True, track_running_stats=True)\n",
      "      )\n",
      "    )\n",
      "    (1): BasicBlock(\n",
      "      (conv1): Conv2d(512, 512, kernel_size=(3, 3), stride=(1, 1), padding=(1, 1), bias=False)\n",
      "      (bn1): BatchNorm2d(512, eps=1e-05, momentum=0.1, affine=True, track_running_stats=True)\n",
      "      (relu): ReLU(inplace=True)\n",
      "      (conv2): Conv2d(512, 512, kernel_size=(3, 3), stride=(1, 1), padding=(1, 1), bias=False)\n",
      "      (bn2): BatchNorm2d(512, eps=1e-05, momentum=0.1, affine=True, track_running_stats=True)\n",
      "    )\n",
      "  )\n",
      "  (avgpool): AdaptiveAvgPool2d(output_size=(1, 1))\n",
      "  (fc): Linear(in_features=512, out_features=4, bias=True)\n",
      ")\n"
     ]
    }
   ],
   "source": [
    "print(model)"
   ]
  },
  {
   "cell_type": "code",
   "execution_count": 14,
   "id": "accessible-wrist",
   "metadata": {},
   "outputs": [],
   "source": [
    "# 손실함수, 최적화 함수 정의\n",
    "criterion = nn.CrossEntropyLoss()\n",
    "optimizer = optim.Adam(model.parameters(), lr=1e-4, weight_decay=1e-2)"
   ]
  },
  {
   "cell_type": "code",
   "execution_count": 15,
   "id": "normal-malawi",
   "metadata": {},
   "outputs": [
    {
     "name": "stdout",
     "output_type": "stream",
     "text": [
      "[1] Train loss: 0.661 | Train accuracy: 78.70%\n",
      "[2] Train loss: 0.309 | Train accuracy: 91.48%\n",
      "[3] Train loss: 0.167 | Train accuracy: 95.24%\n",
      "[4] Train loss: 0.105 | Train accuracy: 96.99%\n",
      "[5] Train loss: 0.084 | Train accuracy: 97.49%\n",
      "[6] Train loss: 0.059 | Train accuracy: 98.75%\n",
      "[7] Train loss: 0.079 | Train accuracy: 96.99%\n",
      "[8] Train loss: 0.065 | Train accuracy: 97.49%\n",
      "[9] Train loss: 0.063 | Train accuracy: 98.25%\n",
      "[10] Train loss: 0.047 | Train accuracy: 99.00%\n",
      "[11] Train loss: 0.091 | Train accuracy: 98.50%\n",
      "[12] Train loss: 0.061 | Train accuracy: 97.99%\n",
      "[13] Train loss: 0.144 | Train accuracy: 93.98%\n",
      "[14] Train loss: 0.193 | Train accuracy: 93.98%\n",
      "[15] Train loss: 0.093 | Train accuracy: 95.74%\n",
      "[16] Train loss: 0.084 | Train accuracy: 97.74%\n",
      "[17] Train loss: 0.018 | Train accuracy: 99.50%\n",
      "[18] Train loss: 0.015 | Train accuracy: 99.75%\n",
      "[19] Train loss: 0.014 | Train accuracy: 99.50%\n",
      "[20] Train loss: 0.023 | Train accuracy: 99.25%\n",
      "[21] Train loss: 0.010 | Train accuracy: 99.75%\n",
      "[22] Train loss: 0.024 | Train accuracy: 98.75%\n",
      "[23] Train loss: 0.007 | Train accuracy: 99.75%\n",
      "[24] Train loss: 0.037 | Train accuracy: 99.00%\n",
      "[25] Train loss: 0.066 | Train accuracy: 97.99%\n",
      "[26] Train loss: 0.095 | Train accuracy: 95.99%\n",
      "[27] Train loss: 0.105 | Train accuracy: 96.99%\n",
      "[28] Train loss: 0.108 | Train accuracy: 96.99%\n",
      "[29] Train loss: 0.050 | Train accuracy: 98.75%\n",
      "[30] Train loss: 0.038 | Train accuracy: 98.75%\n",
      "[31] Train loss: 0.050 | Train accuracy: 99.00%\n",
      "[32] Train loss: 0.039 | Train accuracy: 99.25%\n",
      "[33] Train loss: 0.005 | Train accuracy: 100.00%\n",
      "[34] Train loss: 0.003 | Train accuracy: 100.00%\n",
      "[35] Train loss: 0.008 | Train accuracy: 99.75%\n",
      "[36] Train loss: 0.037 | Train accuracy: 99.00%\n",
      "[37] Train loss: 0.022 | Train accuracy: 99.75%\n",
      "[38] Train loss: 0.077 | Train accuracy: 98.25%\n",
      "[39] Train loss: 0.064 | Train accuracy: 98.25%\n",
      "[40] Train loss: 0.124 | Train accuracy: 94.99%\n",
      "[41] Train loss: 0.053 | Train accuracy: 98.75%\n",
      "[42] Train loss: 0.041 | Train accuracy: 99.00%\n",
      "[43] Train loss: 0.020 | Train accuracy: 99.50%\n",
      "[44] Train loss: 0.013 | Train accuracy: 99.75%\n",
      "[45] Train loss: 0.004 | Train accuracy: 100.00%\n",
      "[46] Train loss: 0.002 | Train accuracy: 100.00%\n",
      "[47] Train loss: 0.025 | Train accuracy: 99.75%\n",
      "[48] Train loss: 0.006 | Train accuracy: 100.00%\n",
      "[49] Train loss: 0.025 | Train accuracy: 99.50%\n",
      "[50] Train loss: 0.018 | Train accuracy: 99.25%\n",
      "Finished Training\n"
     ]
    }
   ],
   "source": [
    "for epoch in range(50):\n",
    "\n",
    "    running_loss = 0.0\n",
    "    correct = 0\n",
    "    for data in train_loader:\n",
    "        \n",
    "        inputs, labels = data[0].to(device), data[1].to(device)\n",
    "        \n",
    "        optimizer.zero_grad()\n",
    "        outputs = model(inputs)\n",
    "        loss = criterion(outputs, labels)\n",
    "        loss.backward()\n",
    "        optimizer.step()\n",
    "\n",
    "        running_loss += loss.item()\n",
    "        pred = outputs.argmax(dim=1, keepdim=True) # get the index of the max log-probability\n",
    "        correct += pred.eq(labels.view_as(pred)).sum().item()\n",
    "\n",
    "    cost = running_loss / len(train_loader)\n",
    "    \n",
    "    print('[%d] Train loss: %.3f | Train accuracy: %.2f%%' %(epoch + 1, cost, 100.*correct/len(train_loader.dataset))) \n",
    "    \n",
    "    #test loss 값을 Y축, 전달받은 파라미터 epoch를 X 값으로 \n",
    "    vis.line(Y=[cost], X=np.array([epoch]),win=plot,update='append')\n",
    "\n",
    "    # accuracy를 구하는 수식을 Y값으로 epoch를 X값으로 \n",
    "    vis2.line(Y=[100.*correct/len(train_loader.dataset)], X=np.array([epoch]),win=plot2,update='append')\n",
    "    \n",
    "torch.save(model.state_dict(), './models/test4_resnet18_pretrained.pth')      \n",
    "\n",
    "print('Finished Training')"
   ]
  },
  {
   "cell_type": "code",
   "execution_count": 16,
   "id": "identical-hypothetical",
   "metadata": {},
   "outputs": [
    {
     "data": {
      "text/plain": [
       "<All keys matched successfully>"
      ]
     },
     "execution_count": 16,
     "metadata": {},
     "output_type": "execute_result"
    }
   ],
   "source": [
    "model = torchvision.models.resnet18(pretrained=False)\n",
    "num_ftrs = model.fc.in_features\n",
    "model.fc = nn.Linear(num_ftrs, 4) \n",
    "model = model.to(device)\n",
    "model.load_state_dict(torch.load('./models/test4_resnet18_pretrained.pth'))"
   ]
  },
  {
   "cell_type": "code",
   "execution_count": 17,
   "id": "sexual-medication",
   "metadata": {},
   "outputs": [
    {
     "name": "stdout",
     "output_type": "stream",
     "text": [
      "Accuracy of the network on the test images: 86.89 %\n"
     ]
    }
   ],
   "source": [
    "correct = 0\n",
    "total = 0\n",
    "with torch.no_grad():\n",
    "    for data in validation_loader:\n",
    "        images, labels = data[0].to(device), data[1].to(device)\n",
    "        outputs = model(images)\n",
    "        _, predicted = torch.max(outputs.data, 1)\n",
    "        total += labels.size(0)\n",
    "        correct += (predicted == labels).sum().item()\n",
    "print('Accuracy of the network on the test images: %.2f %%' % (100 * correct / total))"
   ]
  },
  {
   "cell_type": "code",
   "execution_count": 22,
   "id": "quick-secretary",
   "metadata": {},
   "outputs": [],
   "source": [
    "model = torchvision.models.resnet18(pretrained=False)\n",
    "num_ftrs = model.fc.in_features # fc의 입력 노드 수를 산출한다. 512개\n",
    "model.fc = nn.Linear(num_ftrs, 4) # fc를 nn.Linear(num_ftrs, 10)로 대체한다.\n",
    "model = model.to(device)"
   ]
  },
  {
   "cell_type": "code",
   "execution_count": 23,
   "id": "powerful-litigation",
   "metadata": {},
   "outputs": [],
   "source": [
    "# 손실함수, 최적화 함수 정의\n",
    "criterion = nn.CrossEntropyLoss()\n",
    "optimizer = optim.Adam(model.parameters(), lr=1e-4, weight_decay=1e-2)"
   ]
  },
  {
   "cell_type": "code",
   "execution_count": 24,
   "id": "educational-enforcement",
   "metadata": {},
   "outputs": [
    {
     "name": "stdout",
     "output_type": "stream",
     "text": [
      "[1] Train loss: 0.781 | Train accuracy: 75.69%\n",
      "[2] Train loss: 0.519 | Train accuracy: 82.96%\n",
      "[3] Train loss: 0.340 | Train accuracy: 89.47%\n",
      "[4] Train loss: 0.242 | Train accuracy: 91.23%\n",
      "[5] Train loss: 0.126 | Train accuracy: 96.24%\n",
      "[6] Train loss: 0.064 | Train accuracy: 97.99%\n",
      "[7] Train loss: 0.134 | Train accuracy: 96.24%\n",
      "[8] Train loss: 0.144 | Train accuracy: 95.49%\n",
      "[9] Train loss: 0.068 | Train accuracy: 97.74%\n",
      "[10] Train loss: 0.064 | Train accuracy: 98.75%\n",
      "[11] Train loss: 0.059 | Train accuracy: 97.99%\n",
      "[12] Train loss: 0.059 | Train accuracy: 98.25%\n",
      "[13] Train loss: 0.090 | Train accuracy: 96.74%\n",
      "[14] Train loss: 0.073 | Train accuracy: 97.99%\n",
      "[15] Train loss: 0.057 | Train accuracy: 98.75%\n",
      "[16] Train loss: 0.065 | Train accuracy: 97.99%\n",
      "[17] Train loss: 0.028 | Train accuracy: 99.00%\n",
      "[18] Train loss: 0.087 | Train accuracy: 97.24%\n",
      "[19] Train loss: 0.064 | Train accuracy: 97.49%\n",
      "[20] Train loss: 0.071 | Train accuracy: 97.49%\n",
      "[21] Train loss: 0.067 | Train accuracy: 98.25%\n",
      "[22] Train loss: 0.012 | Train accuracy: 100.00%\n",
      "[23] Train loss: 0.005 | Train accuracy: 100.00%\n",
      "[24] Train loss: 0.002 | Train accuracy: 100.00%\n",
      "[25] Train loss: 0.001 | Train accuracy: 100.00%\n",
      "[26] Train loss: 0.006 | Train accuracy: 100.00%\n",
      "[27] Train loss: 0.053 | Train accuracy: 98.25%\n",
      "[28] Train loss: 0.125 | Train accuracy: 96.49%\n",
      "[29] Train loss: 0.078 | Train accuracy: 97.74%\n",
      "[30] Train loss: 0.044 | Train accuracy: 99.00%\n",
      "[31] Train loss: 0.024 | Train accuracy: 99.25%\n",
      "[32] Train loss: 0.019 | Train accuracy: 99.25%\n",
      "[33] Train loss: 0.014 | Train accuracy: 99.25%\n",
      "[34] Train loss: 0.006 | Train accuracy: 99.75%\n",
      "[35] Train loss: 0.002 | Train accuracy: 100.00%\n",
      "[36] Train loss: 0.002 | Train accuracy: 100.00%\n",
      "[37] Train loss: 0.001 | Train accuracy: 100.00%\n",
      "[38] Train loss: 0.045 | Train accuracy: 99.00%\n",
      "[39] Train loss: 0.140 | Train accuracy: 94.99%\n",
      "[40] Train loss: 0.078 | Train accuracy: 98.25%\n",
      "[41] Train loss: 0.011 | Train accuracy: 100.00%\n",
      "[42] Train loss: 0.020 | Train accuracy: 99.75%\n",
      "[43] Train loss: 0.011 | Train accuracy: 99.75%\n",
      "[44] Train loss: 0.007 | Train accuracy: 99.75%\n",
      "[45] Train loss: 0.002 | Train accuracy: 100.00%\n",
      "[46] Train loss: 0.031 | Train accuracy: 99.00%\n",
      "[47] Train loss: 0.049 | Train accuracy: 98.50%\n",
      "[48] Train loss: 0.026 | Train accuracy: 99.25%\n",
      "[49] Train loss: 0.010 | Train accuracy: 100.00%\n",
      "[50] Train loss: 0.002 | Train accuracy: 100.00%\n",
      "Finished Training\n"
     ]
    }
   ],
   "source": [
    "for epoch in range(50):\n",
    "\n",
    "    running_loss = 0.0\n",
    "    correct = 0\n",
    "    for data in train_loader:\n",
    "        \n",
    "        inputs, labels = data[0].to(device), data[1].to(device)\n",
    "        \n",
    "        optimizer.zero_grad()\n",
    "        outputs = model(inputs)\n",
    "        loss = criterion(outputs, labels)\n",
    "        loss.backward()\n",
    "        optimizer.step()\n",
    "\n",
    "        running_loss += loss.item()\n",
    "        pred = outputs.argmax(dim=1, keepdim=True) # get the index of the max log-probability\n",
    "        correct += pred.eq(labels.view_as(pred)).sum().item()\n",
    "\n",
    "    cost = running_loss / len(train_loader)\n",
    "    \n",
    "    print('[%d] Train loss: %.3f | Train accuracy: %.2f%%' %(epoch + 1, cost, 100.*correct/len(train_loader.dataset))) \n",
    "    \n",
    "    #test loss 값을 Y축, 전달받은 파라미터 epoch를 X 값으로 \n",
    "    vis.line(Y=[cost], X=np.array([epoch]),win=plot,update='append')\n",
    "\n",
    "    # accuracy를 구하는 수식을 Y값으로 epoch를 X값으로 \n",
    "    vis2.line(Y=[100.*correct/len(train_loader.dataset)], X=np.array([epoch]),win=plot2,update='append')\n",
    "    \n",
    "torch.save(model.state_dict(), './models/test4_resnet18.pth')      \n",
    "\n",
    "print('Finished Training')"
   ]
  },
  {
   "cell_type": "code",
   "execution_count": 25,
   "id": "sized-hypothesis",
   "metadata": {},
   "outputs": [
    {
     "data": {
      "text/plain": [
       "<All keys matched successfully>"
      ]
     },
     "execution_count": 25,
     "metadata": {},
     "output_type": "execute_result"
    }
   ],
   "source": [
    "model = torchvision.models.resnet18(pretrained=False)\n",
    "num_ftrs = model.fc.in_features\n",
    "model.fc = nn.Linear(num_ftrs, 4) \n",
    "model = model.to(device)\n",
    "model.load_state_dict(torch.load('./models/test4_resnet18.pth'))"
   ]
  },
  {
   "cell_type": "code",
   "execution_count": 30,
   "id": "harmful-string",
   "metadata": {},
   "outputs": [
    {
     "name": "stdout",
     "output_type": "stream",
     "text": [
      "Accuracy of the network on the test images: 78.65 %\n"
     ]
    }
   ],
   "source": [
    "correct = 0\n",
    "total = 0\n",
    "with torch.no_grad():\n",
    "    for data in validation_loader:\n",
    "        images, labels = data[0].to(device), data[1].to(device)\n",
    "        outputs = model(images)\n",
    "        _, predicted = torch.max(outputs.data, 1)\n",
    "        total += labels.size(0)\n",
    "        correct += (predicted == labels).sum().item()\n",
    "print('Accuracy of the network on the test images: %.2f %%' % (100 * correct / total))"
   ]
  },
  {
   "cell_type": "code",
   "execution_count": null,
   "id": "operational-rouge",
   "metadata": {},
   "outputs": [],
   "source": []
  }
 ],
 "metadata": {
  "kernelspec": {
   "display_name": "Python 3",
   "language": "python",
   "name": "python3"
  },
  "language_info": {
   "codemirror_mode": {
    "name": "ipython",
    "version": 3
   },
   "file_extension": ".py",
   "mimetype": "text/x-python",
   "name": "python",
   "nbconvert_exporter": "python",
   "pygments_lexer": "ipython3",
   "version": "3.6.5"
  }
 },
 "nbformat": 4,
 "nbformat_minor": 5
}
