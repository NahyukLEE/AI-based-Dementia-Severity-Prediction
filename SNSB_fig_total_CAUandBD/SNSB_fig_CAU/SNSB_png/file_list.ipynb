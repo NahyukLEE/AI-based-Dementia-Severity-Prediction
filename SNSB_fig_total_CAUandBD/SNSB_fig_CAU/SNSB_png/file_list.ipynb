{
 "cells": [
  {
   "cell_type": "code",
   "execution_count": 3,
   "metadata": {},
   "outputs": [],
   "source": [
    "from os import listdir\n",
    "from os.path import isfile, join\n",
    "files= [f for f in listdir('C:/Users/neudo/Dropbox/Datascience/SNSB_figure/SNSB_png') if isfile (join('C:/Users/neudo/Dropbox/Datascience/SNSB_figure/SNSB_png', f))]"
   ]
  },
  {
   "cell_type": "code",
   "execution_count": null,
   "metadata": {},
   "outputs": [],
   "source": []
  }
 ],
 "metadata": {
  "kernelspec": {
   "display_name": "Python 3",
   "language": "python",
   "name": "python3"
  },
  "language_info": {
   "codemirror_mode": {
    "name": "ipython",
    "version": 3
   },
   "file_extension": ".py",
   "mimetype": "text/x-python",
   "name": "python",
   "nbconvert_exporter": "python",
   "pygments_lexer": "ipython3",
   "version": "3.6.8"
  }
 },
 "nbformat": 4,
 "nbformat_minor": 2
}
